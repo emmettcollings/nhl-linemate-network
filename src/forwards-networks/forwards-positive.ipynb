{
 "cells": [
  {
   "cell_type": "code",
   "execution_count": 1,
   "metadata": {},
   "outputs": [],
   "source": [
    "import networkx as nx # make sure you installed networkx\n",
    "import pandas as pd\n",
    "import numpy as np\n",
    "\n",
    "# Graph including only positive corsi influences\n",
    "# Read in data\n",
    "df = pd.read_csv(\"../../data/forwards/forwards_edgelist_corsi.csv\")\n",
    "\n",
    "# Create a network of nodes which are players and the links are players that played together\n",
    "# We create 2 graphs, one for each relationship direction and then compose them for our total graph\n",
    "df = df.rename(columns={'cf_inf_on2':'weight'})\n",
    "G0 = nx.Graph()\n",
    "G0 = nx.from_pandas_edgelist(df, 'playerId1', 'playerId2', ['weight'],create_using=nx.DiGraph)\n",
    "\n",
    "df = df.rename(columns={'weight':'notweight','cf_inf_on1':'weight'})\n",
    "G1 = nx.Graph()\n",
    "G1 = nx.from_pandas_edgelist(df, 'playerId2', 'playerId1', edge_attr='weight',create_using=nx.DiGraph)\n",
    "\n",
    "G = nx.compose(G0, G1)\n",
    "\n",
    "\n",
    "# We are creating this graph specifically for community analysis, so we can clean up irrelevant nodes\n",
    "# Delete edges with 0 or negative influence\n",
    "edge_attrs = nx.get_edge_attributes(G, \"weight\")\n",
    "for edge in edge_attrs.keys():\n",
    "    if edge_attrs[edge] <= 0:\n",
    "        G.remove_edge(edge[0], edge[1])\n",
    "\n",
    "# Delete nodes with no edges\n",
    "G.remove_nodes_from(list(nx.isolates(G)))\n",
    "\n",
    "\n",
    "# Copy a whole bunch of relevant stats to nodes for easier data analysis\n",
    "# Add player names to nodes\n",
    "players_df = pd.read_csv(\"../../data/forwards/aggregate_forwards.csv\", index_col='playerId', header=0)\n",
    "player_names = dict.fromkeys(G.nodes)\n",
    "for player in G.nodes:\n",
    "    player_name = players_df.loc[[player]][\"playerName\"].values[0]\n",
    "    player_names[player] = player_name\n",
    "\n",
    "nx.set_node_attributes(G, player_names, \"playerName\")\n",
    "\n",
    "# NOTE: this uses data calculated in defense-overall.ipynb\n",
    "# average corsi influence\n",
    "players_avg_TOI_dict = dict.fromkeys(G.nodes)\n",
    "for player in G.nodes:\n",
    "    player_avg_TOI = players_df.loc[[player]][\"average_corsi_influence\"].values[0]\n",
    "    players_avg_TOI_dict[player] = player_avg_TOI\n",
    "\n",
    "nx.set_node_attributes(G, players_avg_TOI_dict, \"average_corsi_influence\")\n"
   ]
  },
  {
   "cell_type": "code",
   "execution_count": 2,
   "metadata": {},
   "outputs": [
    {
     "name": "stdout",
     "output_type": "stream",
     "text": [
      "Number of nodes:  758\n",
      "Number of edges:  4442\n"
     ]
    }
   ],
   "source": [
    "# Number of nodes and edges\n",
    "num_nodes = G.number_of_nodes()\n",
    "num_edges = G.number_of_edges()\n",
    "print(\"Number of nodes: \", num_nodes)\n",
    "print(\"Number of edges: \", num_edges)"
   ]
  },
  {
   "cell_type": "code",
   "execution_count": 3,
   "metadata": {},
   "outputs": [],
   "source": [
    "# Run community detection algorithms, add info to graph and export to gephi for visualization\n",
    "import networkx.algorithms.community as nxc\n",
    "\n",
    "# Greedy Modularity\n",
    "greedy_communities = nxc.greedy_modularity_communities(G, weight='weight')\n",
    "\n",
    "# add community info to node attributes\n",
    "i = 0\n",
    "greedy_communities_dict = dict.fromkeys(G.nodes)\n",
    "for community in greedy_communities:\n",
    "    for player in community:\n",
    "        greedy_communities_dict[player] = i\n",
    "    i += 1\n",
    "\n",
    "nx.set_node_attributes(G, greedy_communities_dict, \"greedy_community\")\n",
    "\n",
    "# output a gephi file for ez visualization\n",
    "nx.write_gexf(G, 'forwards-positive.gexf')"
   ]
  },
  {
   "cell_type": "code",
   "execution_count": 10,
   "metadata": {},
   "outputs": [],
   "source": [
    "# Display stat distributions and other relevant stuff to identify trends within and between communities\n",
    "import matplotlib as mpl\n",
    "import matplotlib.pyplot as plt\n",
    "import numpy as np\n",
    "\n",
    "players_df = pd.read_csv(\"../../data/forwards/aggregate_forwards.csv\", index_col='playerId', header=0)\n",
    "\n",
    "# Remove players with less than 20 games to clean up playerbase data a bit\n",
    "players_df_pared = players_df.drop(players_df[players_df.games_played < 20].index)"
   ]
  },
  {
   "cell_type": "code",
   "execution_count": 13,
   "metadata": {},
   "outputs": [],
   "source": [
    "def plot_distributions(stat):\n",
    "    # Plot distribution of entire playerbase\n",
    "    playerbase_stats = players_df_pared[stat].values\n",
    "    print(\"n: \", len(playerbase_stats))\n",
    "    print(\"mean: \", np.nanmean(playerbase_stats))\n",
    "    print(\"std dev: \",np.nanstd(playerbase_stats))\n",
    "    n, bins, patches = plt.hist(playerbase_stats, 30)\n",
    "    plt.xlabel(stat)\n",
    "    plt.ylabel(\"Count\")\n",
    "    plt.title(\"Overall Playerbase \" + stat)\n",
    "    plt.show()\n",
    "\n",
    "    # Plot distribution of each community individually\n",
    "    i = 0\n",
    "    for community in greedy_communities:\n",
    "        players_stats = []\n",
    "        for player in community:\n",
    "            players_stats.append(players_df.loc[player][stat])\n",
    "        print(\"Community: \", i)\n",
    "        print(\"n: \", len(players_stats))\n",
    "        print(\"mean: \", np.mean(players_stats))\n",
    "        print(\"std dev: \",np.std(players_stats))\n",
    "        plt.hist(players_stats, bins)\n",
    "        plt.xlabel(stat)\n",
    "        plt.ylabel(\"Count\")\n",
    "        title = \"Community: \" + str(i)\n",
    "        plt.title(title)\n",
    "        # Don't show for now, too much clutter\n",
    "        # plt.show()\n",
    "        i += 1"
   ]
  },
  {
   "cell_type": "code",
   "execution_count": 14,
   "metadata": {},
   "outputs": [
    {
     "name": "stdout",
     "output_type": "stream",
     "text": [
      "n:  1072\n",
      "mean:  0.4865493595815173\n",
      "std dev:  0.0381368673521429\n"
     ]
    },
    {
     "data": {
      "image/png": "[encoded data removed]",
      "text/plain": [
       "<Figure size 640x480 with 1 Axes>"
      ]
     },
     "metadata": {},
     "output_type": "display_data"
    },
    {
     "name": "stdout",
     "output_type": "stream",
     "text": [
      "Community:  0\n",
      "n:  66\n",
      "mean:  0.4874437685894491\n",
      "std dev:  0.024866467630856263\n",
      "Community:  1\n",
      "n:  63\n",
      "mean:  0.5062829797350847\n",
      "std dev:  0.02952885594848233\n",
      "Community:  2\n",
      "n:  57\n",
      "mean:  0.4889910200507862\n",
      "std dev:  0.02595912960910016\n",
      "Community:  3\n",
      "n:  56\n",
      "mean:  0.4912060825140223\n",
      "std dev:  0.026918436073314497\n",
      "Community:  4\n",
      "n:  55\n",
      "mean:  0.49732798407169554\n",
      "std dev:  0.03153609930743365\n",
      "Community:  5\n",
      "n:  54\n",
      "mean:  0.4934685481928597\n",
      "std dev:  0.033942723406738935\n",
      "Community:  6\n",
      "n:  51\n",
      "mean:  0.49488500992413675\n",
      "std dev:  0.03466446595184713\n",
      "Community:  7\n",
      "n:  50\n",
      "mean:  0.49235217168125606\n",
      "std dev:  0.03594546060767132\n",
      "Community:  8\n",
      "n:  45\n",
      "mean:  0.48644304911969777\n",
      "std dev:  0.029536693505969852\n",
      "Community:  9\n",
      "n:  39\n",
      "mean:  0.491124651398802\n",
      "std dev:  0.02988086289036685\n",
      "Community:  10\n",
      "n:  38\n",
      "mean:  0.5090006812083461\n",
      "std dev:  0.027833436865553247\n",
      "Community:  11\n",
      "n:  37\n",
      "mean:  0.5072839956016264\n",
      "std dev:  0.0392338344923821\n",
      "Community:  12\n",
      "n:  36\n",
      "mean:  0.5095957989697538\n",
      "std dev:  0.030358183897590103\n",
      "Community:  13\n",
      "n:  28\n",
      "mean:  0.49765526758313444\n",
      "std dev:  0.023716727285561373\n",
      "Community:  14\n",
      "n:  27\n",
      "mean:  0.4914946267618486\n",
      "std dev:  0.026513847544163704\n",
      "Community:  15\n",
      "n:  19\n",
      "mean:  0.5130261549777227\n",
      "std dev:  0.030859035690747487\n",
      "Community:  16\n",
      "n:  17\n",
      "mean:  0.4920124233144404\n",
      "std dev:  0.0271270239219662\n",
      "Community:  17\n",
      "n:  9\n",
      "mean:  0.4749771412877853\n",
      "std dev:  0.028786035779628825\n",
      "Community:  18\n",
      "n:  8\n",
      "mean:  0.4706740219468132\n",
      "std dev:  0.022801343987381744\n",
      "Community:  19\n",
      "n:  3\n",
      "mean:  0.49155706560487644\n",
      "std dev:  0.0119322202610522\n"
     ]
    },
    {
     "data": {
      "image/png": "[encoded data removed]",
      "text/plain": [
       "<Figure size 640x480 with 1 Axes>"
      ]
     },
     "metadata": {},
     "output_type": "display_data"
    }
   ],
   "source": [
    "# Plot corsi influence distribution of entire playerbase\n",
    "plot_distributions(\"onIce_corsiPercentage\")\n"
   ]
  }
 ],
 "metadata": {
  "kernelspec": {
   "display_name": "Python 3.10.6 64-bit",
   "language": "python",
   "name": "python3"
  },
  "language_info": {
   "codemirror_mode": {
    "name": "ipython",
    "version": 3
   },
   "file_extension": ".py",
   "mimetype": "text/x-python",
   "name": "python",
   "nbconvert_exporter": "python",
   "pygments_lexer": "ipython3",
   "version": "3.8.10"
  },
  "orig_nbformat": 4,
  "vscode": {
   "interpreter": {
    "hash": "916dbcbb3f70747c44a77c7bcd40155683ae19c65e1c03b4aa3499c5328201f1"
   }
  }
 },
 "nbformat": 4,
 "nbformat_minor": 2
}
