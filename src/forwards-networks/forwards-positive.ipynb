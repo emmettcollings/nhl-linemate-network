{
 "cells": [
  {
   "cell_type": "code",
   "execution_count": 1,
   "metadata": {},
   "outputs": [],
   "source": [
    "import networkx as nx # make sure you installed networkx\n",
    "import pandas as pd\n",
    "import numpy as np"
   ]
  },
  {
   "cell_type": "code",
   "execution_count": 2,
   "metadata": {},
   "outputs": [],
   "source": [
    "# Read in data\n",
    "df = pd.read_csv(\"../../data/forwards/forwards_edgelist_corsi.csv\")\n",
    "players_df = pd.read_csv(\"../../data/forwards/aggregate_forwards.csv\", index_col='playerId', header=0)"
   ]
  },
  {
   "cell_type": "code",
   "execution_count": 3,
   "metadata": {},
   "outputs": [],
   "source": [
    "# Create a network of nodes which are players and the links are players that played together\n",
    "# We create 2 graphs, one for each relationship direction and then compose them for our total graph\n",
    "df = df.rename(columns={'cf_inf_on2':'weight'})\n",
    "G0 = nx.Graph()\n",
    "G0 = nx.from_pandas_edgelist(df, 'playerId1', 'playerId2', ['weight'],create_using=nx.DiGraph)\n",
    "\n",
    "df = df.rename(columns={'weight':'notweight','cf_inf_on1':'weight'})\n",
    "G1 = nx.Graph()\n",
    "G1 = nx.from_pandas_edgelist(df, 'playerId2', 'playerId1', edge_attr='weight',create_using=nx.DiGraph)\n",
    "\n",
    "G = nx.compose(G0, G1)"
   ]
  },
  {
   "cell_type": "code",
   "execution_count": 4,
   "metadata": {},
   "outputs": [],
   "source": [
    "# We are creating this graph specifically for community analysis, so we can clean up irrelevant nodes\n",
    "# Delete edges with 0 or negative influence\n",
    "edge_attrs = nx.get_edge_attributes(G, \"weight\")\n",
    "for edge in edge_attrs.keys():\n",
    "    if edge_attrs[edge] <= 0:\n",
    "        G.remove_edge(edge[0], edge[1])\n",
    "\n",
    "# Delete nodes with no edges\n",
    "G.remove_nodes_from(list(nx.isolates(G)))"
   ]
  },
  {
   "cell_type": "code",
   "execution_count": 5,
   "metadata": {},
   "outputs": [],
   "source": [
    "# Make a list of stats we want to look at for easier looping\n",
    "interesting_stats = [\n",
    "    'playerName',\n",
    "    'games_played',\n",
    "    'icetime',\n",
    "    'timeOnBench',\n",
    "    'onIce_corsiPercentage',\n",
    "    'offIce_corsiPercentage',\n",
    "    'on_off_corsi_diff',\n",
    "    'OnIce_F_goals_per60',\n",
    "    'OnIce_A_goals_per60',\n",
    "    'I_F_dZoneGiveaways_per60',\n",
    "    'I_F_giveaways_per60',\n",
    "    'average_TOI',\n",
    "    'I_F_hits_per60',\n",
    "    'I_F_takeaways_per60',\n",
    "    'I_F_points_per60',\n",
    "    'shotsBlockedByPlayer_per60',\n",
    "    'I_F_oZoneShiftStarts_per60',\n",
    "    'I_F_dZoneShiftStarts_per60',\n",
    "    'I_F_neutralZoneShiftStarts_per60',\n",
    "    'I_F_flyShiftStarts_per60',\n",
    "    'I_F_primaryAssists_per60',\n",
    "    'I_F_secondaryAssists_per60',\n",
    "    'I_F_goals_per60'\n",
    "]"
   ]
  },
  {
   "cell_type": "code",
   "execution_count": 6,
   "metadata": {},
   "outputs": [],
   "source": [
    "# Add data to nodes that may be useful for visualization\n",
    "def copy_attr_to_nodes(G, df, attr_name):\n",
    "    nodes_dict = dict.fromkeys(G.nodes)\n",
    "    for node in G.nodes:\n",
    "        node_attr = df.loc[[node]][attr_name].values[0]\n",
    "        nodes_dict[node] = node_attr\n",
    "    return nodes_dict"
   ]
  },
  {
   "cell_type": "code",
   "execution_count": 7,
   "metadata": {},
   "outputs": [],
   "source": [
    "# Copy a whole bunch of relevant stats to nodes for easier data analysis\n",
    "# Add player names to nodes\n",
    "player_names = copy_attr_to_nodes(G, players_df, \"playerName\")\n",
    "nx.set_node_attributes(G, player_names, \"playerName\")\n",
    "\n",
    "# NOTE: this uses data calculated in defense-overall.ipynb\n",
    "# average corsi influence\n",
    "player_avg_inf = copy_attr_to_nodes(G, players_df, \"average_corsi_influence\")\n",
    "nx.set_node_attributes(G, player_names, \"average_corsi_influence\")\n"
   ]
  },
  {
   "cell_type": "code",
   "execution_count": 8,
   "metadata": {},
   "outputs": [
    {
     "name": "stdout",
     "output_type": "stream",
     "text": [
      "Number of nodes:  758\n",
      "Number of edges:  4442\n"
     ]
    }
   ],
   "source": [
    "# Number of nodes and edges\n",
    "num_nodes = G.number_of_nodes()\n",
    "num_edges = G.number_of_edges()\n",
    "print(\"Number of nodes: \", num_nodes)\n",
    "print(\"Number of edges: \", num_edges)"
   ]
  },
  {
   "cell_type": "code",
   "execution_count": 9,
   "metadata": {},
   "outputs": [],
   "source": [
    "# Run community detection algorithms, add info to graph and export to gephi for visualization\n",
    "import networkx.algorithms.community as nxc\n",
    "\n",
    "# Greedy Modularity\n",
    "communities = nxc.greedy_modularity_communities(G, weight='weight')\n",
    "\n",
    "# add community info to node attributes\n",
    "i = 0\n",
    "communities_dict = dict.fromkeys(G.nodes)\n",
    "for community in communities:\n",
    "    for player in community:\n",
    "        communities_dict[player] = i\n",
    "    i += 1\n",
    "\n",
    "nx.set_node_attributes(G, communities_dict, \"community\")"
   ]
  },
  {
   "cell_type": "code",
   "execution_count": 10,
   "metadata": {},
   "outputs": [],
   "source": [
    "# output a gephi file for ez visualization\n",
    "nx.write_gexf(G, 'forwards-positive.gexf')"
   ]
  },
  {
   "cell_type": "code",
   "execution_count": 11,
   "metadata": {},
   "outputs": [],
   "source": [
    "# Display stat distributions and other relevant stuff to identify trends within and between communities\n",
    "import matplotlib as mpl\n",
    "import matplotlib.pyplot as plt\n",
    "import numpy as np\n",
    "\n",
    "players_df = pd.read_csv(\"../../data/forwards/aggregate_forwards.csv\", index_col='playerId', header=0)\n",
    "\n",
    "# Remove players with less than 20 games to clean up playerbase data a bit\n",
    "players_df_pared = players_df.drop(players_df[players_df.icetime < 12000].index)"
   ]
  },
  {
   "cell_type": "code",
   "execution_count": 12,
   "metadata": {},
   "outputs": [],
   "source": [
    "import scipy.stats as sps\n",
    "\n",
    "def plot_distributions(stat):\n",
    "    # Plot distribution of entire playerbase\n",
    "    playerbase_stats = players_df_pared[stat].values\n",
    "    pb_mean = np.nanmean(playerbase_stats)\n",
    "    pb_dev = np.nanstd(playerbase_stats)\n",
    "    print(\"n: \", len(playerbase_stats))\n",
    "    print(\"mean: \", pb_mean)\n",
    "    print(\"std dev: \", pb_dev)\n",
    "    n, bins, patches = plt.hist(playerbase_stats, 30)\n",
    "    plt.xlabel(stat)\n",
    "    plt.ylabel(\"Count\")\n",
    "    plt.title(\"Overall Playerbase \" + stat)\n",
    "    plt.show()\n",
    "\n",
    "    # Plot distribution of each community individually\n",
    "    i = 0\n",
    "    for community in communities:\n",
    "        players_stats = []\n",
    "        for player in community:\n",
    "            players_stats.append(players_df.loc[player][stat])\n",
    "        print(\"Community: \", i)\n",
    "        print(\"n: \", len(players_stats))\n",
    "        print(\"mean: \", np.mean(players_stats))\n",
    "        print(sps.ttest_1samp(players_stats, pb_mean))\n",
    "        # Reduce clutter for now\n",
    "        # plt.hist(players_stats, bins)\n",
    "        # plt.xlabel(stat)\n",
    "        # plt.ylabel(\"Count\")\n",
    "        # title = \"Community: \" + str(i)\n",
    "        # plt.title(title)\n",
    "        # plt.show()\n",
    "        i += 1"
   ]
  },
  {
   "cell_type": "code",
   "execution_count": 13,
   "metadata": {},
   "outputs": [],
   "source": [
    "def dists(stat):\n",
    "    pb_stats = players_df_pared[stat].values\n",
    "    pb_mean = np.nanmean(pb_stats)\n",
    "\n",
    "    i = 0\n",
    "    j = 0\n",
    "    coms = [0] * len(communities)\n",
    "    for community in communities:\n",
    "        p_stats = []\n",
    "        for player in community:\n",
    "            p_stats.append(players_df.loc[player][stat])\n",
    "        statistic, pvalue = sps.ttest_1samp(p_stats, pb_mean)\n",
    "        if pvalue < 0.05:\n",
    "            j += 1\n",
    "            coms[i] += 1\n",
    "        i += 1\n",
    "\n",
    "    prop = j / len(communities)\n",
    "    return prop, coms"
   ]
  },
  {
   "cell_type": "code",
   "execution_count": 14,
   "metadata": {},
   "outputs": [
    {
     "name": "stdout",
     "output_type": "stream",
     "text": [
      "playerName\n",
      "games_played\n",
      "[1, 0, 1, 1, 0, 1, 1, 1, 1, 1, 1, 1, 1, 0, 0, 0, 0, 0, 0, 1]\n",
      "icetime\n",
      "[1, 1, 1, 1, 0, 1, 1, 1, 1, 1, 1, 1, 1, 0, 0, 0, 0, 1, 0, 0]\n",
      "timeOnBench\n",
      "[1, 0, 1, 1, 0, 1, 1, 1, 1, 1, 1, 1, 1, 0, 0, 0, 0, 0, 0, 1]\n",
      "onIce_corsiPercentage\n",
      "[0, 1, 0, 0, 1, 0, 0, 0, 0, 0, 1, 1, 1, 1, 0, 1, 0, 0, 0, 0]\n",
      "offIce_corsiPercentage\n",
      "[1, 1, 1, 0, 0, 0, 0, 0, 0, 1, 0, 1, 1, 1, 1, 1, 0, 0, 0, 0]\n",
      "on_off_corsi_diff\n",
      "[0, 1, 0, 0, 1, 0, 0, 0, 0, 1, 1, 0, 0, 1, 0, 1, 0, 0, 0, 0]\n",
      "OnIce_F_goals_per60\n",
      "[0, 1, 1, 0, 1, 1, 1, 0, 0, 1, 1, 0, 0, 0, 0, 1, 1, 1, 0, 0]\n",
      "OnIce_A_goals_per60\n",
      "[0, 0, 0, 0, 1, 0, 0, 1, 0, 0, 1, 1, 0, 1, 0, 0, 1, 0, 0, 0]\n",
      "I_F_dZoneGiveaways_per60\n",
      "[1, 0, 1, 0, 0, 1, 1, 1, 1, 1, 1, 1, 1, 0, 0, 0, 1, 0, 0, 0]\n",
      "I_F_giveaways_per60\n",
      "[1, 0, 1, 0, 1, 1, 0, 0, 1, 1, 1, 0, 0, 0, 0, 0, 0, 0, 0, 0]\n",
      "average_TOI\n",
      "[0, 1, 1, 0, 1, 1, 1, 0, 1, 1, 1, 0, 1, 1, 0, 1, 0, 1, 0, 0]\n",
      "I_F_hits_per60\n",
      "[0, 0, 0, 0, 1, 0, 0, 0, 0, 0, 1, 0, 0, 1, 0, 0, 0, 1, 1, 1]\n",
      "I_F_takeaways_per60\n",
      "[1, 0, 0, 1, 0, 0, 0, 0, 0, 1, 1, 1, 0, 0, 0, 0, 1, 0, 1, 0]\n",
      "I_F_points_per60\n",
      "[0, 1, 1, 0, 1, 1, 1, 0, 0, 1, 1, 0, 1, 0, 0, 1, 1, 1, 0, 0]\n",
      "shotsBlockedByPlayer_per60\n",
      "[0, 1, 0, 0, 0, 0, 0, 0, 0, 0, 0, 0, 1, 0, 0, 0, 0, 0, 1, 1]\n",
      "I_F_oZoneShiftStarts_per60\n",
      "[0, 0, 0, 0, 0, 1, 0, 0, 0, 1, 0, 0, 1, 0, 0, 1, 0, 1, 1, 0]\n",
      "I_F_dZoneShiftStarts_per60\n",
      "[1, 0, 0, 0, 0, 1, 0, 0, 0, 0, 1, 0, 1, 0, 0, 1, 0, 0, 1, 0]\n",
      "I_F_neutralZoneShiftStarts_per60\n",
      "[1, 0, 0, 0, 0, 0, 0, 0, 0, 1, 0, 0, 0, 0, 0, 0, 0, 0, 0, 0]\n",
      "I_F_flyShiftStarts_per60\n",
      "[0, 1, 1, 1, 1, 1, 1, 0, 0, 1, 0, 1, 0, 0, 0, 0, 0, 1, 0, 0]\n",
      "I_F_primaryAssists_per60\n",
      "[0, 1, 0, 0, 1, 1, 1, 0, 0, 1, 1, 0, 0, 0, 0, 0, 0, 0, 0, 0]\n",
      "I_F_secondaryAssists_per60\n",
      "[0, 1, 0, 0, 0, 1, 0, 0, 0, 1, 1, 0, 0, 1, 0, 0, 0, 0, 0, 0]\n",
      "I_F_goals_per60\n",
      "[0, 1, 1, 0, 0, 1, 0, 0, 0, 1, 1, 0, 1, 0, 0, 1, 1, 0, 0, 0]\n",
      "0.38043478260869557\n",
      "n:  1051\n",
      "mean:  0.4872960043263852\n",
      "std dev:  0.037367080380594234\n"
     ]
    },
    {
     "data": {
      "image/png": "[encoded data removed]",
      "text/plain": [
       "<Figure size 640x480 with 1 Axes>"
      ]
     },
     "metadata": {},
     "output_type": "display_data"
    },
    {
     "name": "stdout",
     "output_type": "stream",
     "text": [
      "Community:  0\n",
      "n:  66\n",
      "mean:  0.4874437685894491\n",
      "Ttest_1sampResult(statistic=0.04790843607116384, pvalue=0.9619361164056004)\n",
      "Community:  1\n",
      "n:  63\n",
      "mean:  0.5062829797350847\n",
      "Ttest_1sampResult(statistic=5.062966006288932, pvalue=3.954959997826015e-06)\n",
      "Community:  2\n",
      "n:  57\n",
      "mean:  0.4889910200507862\n",
      "Ttest_1sampResult(statistic=0.4886271767509272, pvalue=0.6270137798599478)\n",
      "Community:  3\n",
      "n:  56\n",
      "mean:  0.4912060825140223\n",
      "Ttest_1sampResult(statistic=1.0772511397245357, pvalue=0.28607047060201013)\n",
      "Community:  4\n",
      "n:  55\n",
      "mean:  0.49732798407169554\n",
      "Ttest_1sampResult(statistic=2.337628815129387, pvalue=0.023142508361637365)\n",
      "Community:  5\n",
      "n:  54\n",
      "mean:  0.4934685481928597\n",
      "Ttest_1sampResult(statistic=1.3239007697130447, pvalue=0.19121782799349735)\n",
      "Community:  6\n",
      "n:  51\n",
      "mean:  0.49488500992413675\n",
      "Ttest_1sampResult(statistic=1.5480513469000512, pvalue=0.12791679290290825)\n",
      "Community:  7\n",
      "n:  50\n",
      "mean:  0.49235217168125606\n",
      "Ttest_1sampResult(statistic=0.9846353582833914, pvalue=0.3296403148359316)\n",
      "Community:  8\n",
      "n:  45\n",
      "mean:  0.48644304911969777\n",
      "Ttest_1sampResult(statistic=-0.1915537623052142, pvalue=0.8489730119097835)\n",
      "Community:  9\n",
      "n:  39\n",
      "mean:  0.491124651398802\n",
      "Ttest_1sampResult(statistic=0.7898488645467165, pvalue=0.4345173106171213)\n",
      "Community:  10\n",
      "n:  38\n",
      "mean:  0.5090006812083461\n",
      "Ttest_1sampResult(statistic=4.743373802795278, pvalue=3.108353437556226e-05)\n",
      "Community:  11\n",
      "n:  37\n",
      "mean:  0.5072839956016264\n",
      "Ttest_1sampResult(statistic=3.056748064600548, pvalue=0.0042011968909884696)\n",
      "Community:  12\n",
      "n:  36\n",
      "mean:  0.5095957989697538\n",
      "Ttest_1sampResult(statistic=4.345693559995165, pvalue=0.00011359006618143293)\n",
      "Community:  13\n",
      "n:  28\n",
      "mean:  0.49765526758313444\n",
      "Ttest_1sampResult(statistic=2.269634853953217, pvalue=0.03142912361755673)\n",
      "Community:  14\n",
      "n:  27\n",
      "mean:  0.4914946267618486\n",
      "Ttest_1sampResult(statistic=0.8074594867069291, pvalue=0.4267275566347597)\n",
      "Community:  15\n",
      "n:  19\n",
      "mean:  0.5130261549777227\n",
      "Ttest_1sampResult(statistic=3.5374982268744124, pvalue=0.0023523980804576175)\n",
      "Community:  16\n",
      "n:  17\n",
      "mean:  0.4920124233144404\n",
      "Ttest_1sampResult(statistic=0.6954568996027695, pvalue=0.49674657593241633)\n",
      "Community:  17\n",
      "n:  9\n",
      "mean:  0.4749771412877853\n",
      "Ttest_1sampResult(statistic=-1.2104135015724122, pvalue=0.2606657261304076)\n",
      "Community:  18\n",
      "n:  8\n",
      "mean:  0.4706740219468132\n",
      "Ttest_1sampResult(statistic=-1.9287298019617793, pvalue=0.09509997685246925)\n",
      "Community:  19\n",
      "n:  3\n",
      "mean:  0.49155706560487644\n",
      "Ttest_1sampResult(statistic=0.5050234171267105, pvalue=0.663694818891361)\n"
     ]
    }
   ],
   "source": [
    "i = 0\n",
    "for stat in interesting_stats:\n",
    "    print(stat)\n",
    "    if stat == 'playerName':\n",
    "        continue\n",
    "    gap, coms = dists(stat)\n",
    "    i += gap\n",
    "    print(coms)\n",
    "\n",
    "print(i / len(interesting_stats))\n",
    "# Plot corsi influence distribution of entire playerbase\n",
    "plot_distributions(\"onIce_corsiPercentage\")\n"
   ]
  },
  {
   "cell_type": "code",
   "execution_count": 15,
   "metadata": {},
   "outputs": [
    {
     "name": "stdout",
     "output_type": "stream",
     "text": [
      "games_played assortativity:  0.10550768131932581\n",
      "icetime assortativity:  0.1362094467940885\n",
      "timeOnBench assortativity:  0.09286956028630036\n",
      "onIce_corsiPercentage assortativity:  0.41543297221445546\n",
      "offIce_corsiPercentage assortativity:  0.48437482605568777\n",
      "on_off_corsi_diff assortativity:  0.30281629816296396\n",
      "OnIce_F_goals_per60 assortativity:  0.43756860734769126\n",
      "OnIce_A_goals_per60 assortativity:  0.2875612100223652\n",
      "I_F_dZoneGiveaways_per60 assortativity:  0.23105812122196892\n",
      "I_F_giveaways_per60 assortativity:  0.2097989272291843\n",
      "average_TOI assortativity:  0.34409066042769054\n",
      "I_F_hits_per60 assortativity:  0.18243093475166217\n",
      "I_F_takeaways_per60 assortativity:  0.14788380015237662\n",
      "I_F_points_per60 assortativity:  0.32609041915958903\n",
      "shotsBlockedByPlayer_per60 assortativity:  0.11807608225629788\n",
      "I_F_oZoneShiftStarts_per60 assortativity:  0.3888681696271737\n",
      "I_F_dZoneShiftStarts_per60 assortativity:  0.2895820856636092\n",
      "I_F_neutralZoneShiftStarts_per60 assortativity:  0.23148875827805732\n",
      "I_F_flyShiftStarts_per60 assortativity:  0.3361090171955271\n",
      "I_F_primaryAssists_per60 assortativity:  0.19090187310066264\n",
      "I_F_secondaryAssists_per60 assortativity:  0.14821536326305296\n",
      "I_F_goals_per60 assortativity:  0.192430750303579\n"
     ]
    }
   ],
   "source": [
    "# Numeric assortativity between nodes\n",
    "# Check to see if the positive graph behaves differently than the complete one\n",
    "def ordinal_stat_assortativity(G, players_df, stat):\n",
    "    # Copy stat in question as node attribute first\n",
    "    stats = copy_attr_to_nodes(G, players_df, stat)\n",
    "    nx.set_node_attributes(G, stats, stat)\n",
    "    return nx.numeric_assortativity_coefficient(G, attribute=stat)\n",
    "\n",
    "for stat in interesting_stats:\n",
    "    if stat == 'playerName':\n",
    "        continue\n",
    "    print(stat + ' assortativity: ', ordinal_stat_assortativity(G, players_df, stat))"
   ]
  }
 ],
 "metadata": {
  "kernelspec": {
   "display_name": "Python 3.10.6 64-bit",
   "language": "python",
   "name": "python3"
  },
  "language_info": {
   "codemirror_mode": {
    "name": "ipython",
    "version": 3
   },
   "file_extension": ".py",
   "mimetype": "text/x-python",
   "name": "python",
   "nbconvert_exporter": "python",
   "pygments_lexer": "ipython3",
   "version": "3.8.10"
  },
  "orig_nbformat": 4,
  "vscode": {
   "interpreter": {
    "hash": "916dbcbb3f70747c44a77c7bcd40155683ae19c65e1c03b4aa3499c5328201f1"
   }
  }
 },
 "nbformat": 4,
 "nbformat_minor": 2
}
