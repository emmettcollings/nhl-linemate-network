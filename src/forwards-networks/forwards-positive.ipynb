{
 "cells": [
  {
   "cell_type": "code",
   "execution_count": 251,
   "metadata": {},
   "outputs": [],
   "source": [
    "import networkx as nx # make sure you installed networkx\n",
    "import pandas as pd\n",
    "import numpy as np"
   ]
  },
  {
   "cell_type": "code",
   "execution_count": 252,
   "metadata": {},
   "outputs": [],
   "source": [
    "# Read in data\n",
    "df = pd.read_csv(\"../../data/forwards/forwards_edgelist_corsi.csv\")\n",
    "players_df = pd.read_csv(\"../../data/forwards/aggregate_forwards.csv\", index_col='playerId', header=0)"
   ]
  },
  {
   "cell_type": "code",
   "execution_count": 253,
   "metadata": {},
   "outputs": [],
   "source": [
    "# Create a network of nodes which are players and the links are players that played together\n",
    "# We create 2 graphs, one for each relationship direction and then compose them for our total graph\n",
    "df = df.rename(columns={'cf_inf_on2':'weight'})\n",
    "G0 = nx.Graph()\n",
    "G0 = nx.from_pandas_edgelist(df, 'playerId1', 'playerId2', ['weight'],create_using=nx.DiGraph)\n",
    "\n",
    "df = df.rename(columns={'weight':'notweight','cf_inf_on1':'weight'})\n",
    "G1 = nx.Graph()\n",
    "G1 = nx.from_pandas_edgelist(df, 'playerId2', 'playerId1', edge_attr='weight',create_using=nx.DiGraph)\n",
    "\n",
    "G = nx.compose(G0, G1)"
   ]
  },
  {
   "cell_type": "code",
   "execution_count": 254,
   "metadata": {},
   "outputs": [],
   "source": [
    "# We are creating this graph specifically for community analysis, so we can clean up irrelevant nodes\n",
    "# Delete edges with 0 or negative influence\n",
    "edge_attrs = nx.get_edge_attributes(G, \"weight\")\n",
    "for edge in edge_attrs.keys():\n",
    "    if edge_attrs[edge] <= 0:\n",
    "        G.remove_edge(edge[0], edge[1])\n",
    "\n",
    "# Delete nodes with no edges\n",
    "G.remove_nodes_from(list(nx.isolates(G)))"
   ]
  },
  {
   "cell_type": "code",
   "execution_count": 255,
   "metadata": {},
   "outputs": [],
   "source": [
    "# Add data to nodes that may be useful for visualization\n",
    "def copy_attr_to_nodes(G, df, attr_name):\n",
    "    nodes_dict = dict.fromkeys(G.nodes)\n",
    "    for node in G.nodes:\n",
    "        node_attr = df.loc[[node]][attr_name].values[0]\n",
    "        nodes_dict[node] = node_attr\n",
    "    return nodes_dict"
   ]
  },
  {
   "cell_type": "code",
   "execution_count": 256,
   "metadata": {},
   "outputs": [],
   "source": [
    "# Copy a whole bunch of relevant stats to nodes for easier data analysis\n",
    "# Add player names to nodes\n",
    "player_names = copy_attr_to_nodes(G, players_df, \"playerName\")\n",
    "nx.set_node_attributes(G, player_names, \"playerName\")\n",
    "\n",
    "# NOTE: this uses data calculated in defense-overall.ipynb\n",
    "# average corsi influence\n",
    "player_avg_inf = copy_attr_to_nodes(G, players_df, \"average_corsi_influence\")\n",
    "nx.set_node_attributes(G, player_names, \"average_corsi_influence\")"
   ]
  },
  {
   "cell_type": "code",
   "execution_count": 257,
   "metadata": {},
   "outputs": [
    {
     "name": "stdout",
     "output_type": "stream",
     "text": [
      "Number of nodes:  758\n",
      "Number of edges:  4442\n"
     ]
    }
   ],
   "source": [
    "# Number of nodes and edges\n",
    "num_nodes = G.number_of_nodes()\n",
    "num_edges = G.number_of_edges()\n",
    "print(\"Number of nodes: \", num_nodes)\n",
    "print(\"Number of edges: \", num_edges)"
   ]
  },
  {
   "cell_type": "code",
   "execution_count": 258,
   "metadata": {},
   "outputs": [],
   "source": [
    "# Run community detection algorithms, add info to graph and export to gephi for visualization\n",
    "import networkx.algorithms.community as nxc\n",
    "\n",
    "# Greedy Modularity\n",
    "communities = nxc.greedy_modularity_communities(G, weight='weight')\n",
    "\n",
    "# add community info to node attributes\n",
    "i = 0\n",
    "communities_dict = dict.fromkeys(G.nodes)\n",
    "for community in communities:\n",
    "    for player in community:\n",
    "        communities_dict[player] = i\n",
    "    i += 1\n",
    "\n",
    "nx.set_node_attributes(G, communities_dict, \"community\")"
   ]
  },
  {
   "cell_type": "code",
   "execution_count": 259,
   "metadata": {},
   "outputs": [],
   "source": [
    "# output a gephi file for ez visualization\n",
    "nx.write_gexf(G, 'forwards-positive.gexf')"
   ]
  },
  {
   "cell_type": "code",
   "execution_count": 260,
   "metadata": {},
   "outputs": [],
   "source": [
    "# Display stat distributions and other relevant stuff to identify trends within and between communities\n",
    "import matplotlib as mpl\n",
    "import matplotlib.pyplot as plt\n",
    "import numpy as np\n",
    "\n",
    "players_df = pd.read_csv(\"../../data/forwards/aggregate_forwards.csv\", index_col='playerId', header=0)\n",
    "\n",
    "# Remove players with less than 20 games to clean up playerbase data a bit\n",
    "players_df_pared = players_df.drop(players_df[players_df.icetime < 12000].index)"
   ]
  },
  {
   "cell_type": "code",
   "execution_count": 261,
   "metadata": {},
   "outputs": [],
   "source": [
    "import scipy.stats as sps\n",
    "\n",
    "def plot_distributions(stat):\n",
    "    # Plot distribution of entire playerbase\n",
    "    playerbase_stats = players_df_pared[stat].values\n",
    "    pb_mean = np.nanmean(playerbase_stats)\n",
    "    pb_dev = np.nanstd(playerbase_stats)\n",
    "    print(\"n: \", len(playerbase_stats))\n",
    "    print(\"mean: \", pb_mean)\n",
    "    print(\"std dev: \", pb_dev)\n",
    "    n, bins, patches = plt.hist(playerbase_stats, 30)\n",
    "    plt.xlabel(stat)\n",
    "    plt.ylabel(\"Count\")\n",
    "    plt.title(\"Overall Playerbase \" + stat)\n",
    "    plt.show()\n",
    "\n",
    "    # Plot distribution of each community individually\n",
    "    i = 0\n",
    "    for community in communities:\n",
    "        players_stats = []\n",
    "        for player in community:\n",
    "            players_stats.append(players_df.loc[player][stat])\n",
    "        print(\"Community: \", i)\n",
    "        print(\"n: \", len(players_stats))\n",
    "        print(\"mean: \", np.mean(players_stats))\n",
    "        print(sps.ttest_1samp(players_stats, pb_mean))\n",
    "        # Reduce clutter for now\n",
    "        # plt.hist(players_stats, bins)\n",
    "        # plt.xlabel(stat)\n",
    "        # plt.ylabel(\"Count\")\n",
    "        # title = \"Community: \" + str(i)\n",
    "        # plt.title(title)\n",
    "        # plt.show()\n",
    "        i += 1"
   ]
  },
  {
   "cell_type": "code",
   "execution_count": 279,
   "metadata": {},
   "outputs": [
    {
     "name": "stdout",
     "output_type": "stream",
     "text": [
      "n:  1051\n",
      "mean:  1.3539050552228122\n",
      "std dev:  0.45892528351697903\n"
     ]
    },
    {
     "data": {
      "image/png": "[encoded data removed]",
      "text/plain": [
       "<Figure size 640x480 with 1 Axes>"
      ]
     },
     "metadata": {},
     "output_type": "display_data"
    },
    {
     "name": "stdout",
     "output_type": "stream",
     "text": [
      "Community:  0\n",
      "n:  66\n",
      "mean:  1.3659495900673126\n",
      "Ttest_1sampResult(statistic=0.3476015861891189, pvalue=0.7292625059998765)\n",
      "Community:  1\n",
      "n:  63\n",
      "mean:  1.5984514968043413\n",
      "Ttest_1sampResult(statistic=4.476636818919596, pvalue=3.314262709660915e-05)\n",
      "Community:  2\n",
      "n:  57\n",
      "mean:  1.478025318713297\n",
      "Ttest_1sampResult(statistic=2.649098545385596, pvalue=0.010468299190490256)\n",
      "Community:  3\n",
      "n:  56\n",
      "mean:  1.408005880082931\n",
      "Ttest_1sampResult(statistic=1.082476345908492, pvalue=0.28376401988035466)\n",
      "Community:  4\n",
      "n:  55\n",
      "mean:  1.4826498453940793\n",
      "Ttest_1sampResult(statistic=2.3977127290604523, pvalue=0.01998509374000314)\n",
      "Community:  5\n",
      "n:  54\n",
      "mean:  1.568683182243527\n",
      "Ttest_1sampResult(statistic=3.941669188059176, pvalue=0.00023856698741131139)\n",
      "Community:  6\n",
      "n:  51\n",
      "mean:  1.499410885710343\n",
      "Ttest_1sampResult(statistic=2.404894575598066, pvalue=0.019920821828511005)\n",
      "Community:  7\n",
      "n:  50\n",
      "mean:  1.456995413069217\n",
      "Ttest_1sampResult(statistic=1.6100145098162892, pvalue=0.11381896617758294)\n",
      "Community:  8\n",
      "n:  45\n",
      "mean:  1.4454084190623402\n",
      "Ttest_1sampResult(statistic=1.4837777207554255, pvalue=0.1449965380892953)\n",
      "Community:  9\n",
      "n:  39\n",
      "mean:  1.5370083467542395\n",
      "Ttest_1sampResult(statistic=3.195084508967267, pvalue=0.002810940273974541)\n",
      "Community:  10\n",
      "n:  38\n",
      "mean:  1.6906303196475556\n",
      "Ttest_1sampResult(statistic=3.934070363991484, pvalue=0.0003538469116757129)\n",
      "Community:  11\n",
      "n:  37\n",
      "mean:  1.415476891651814\n",
      "Ttest_1sampResult(statistic=0.7548050734177983, pvalue=0.45527574225700296)\n",
      "Community:  12\n",
      "n:  36\n",
      "mean:  1.478943580133971\n",
      "Ttest_1sampResult(statistic=2.1247029145574667, pvalue=0.04074811563123988)\n",
      "Community:  13\n",
      "n:  28\n",
      "mean:  1.4730920232057598\n",
      "Ttest_1sampResult(statistic=1.502298212109807, pvalue=0.14462663112912624)\n",
      "Community:  14\n",
      "n:  27\n",
      "mean:  1.387837743224351\n",
      "Ttest_1sampResult(statistic=0.47478129609115444, pvalue=0.6389067333306191)\n",
      "Community:  15\n",
      "n:  19\n",
      "mean:  1.6243001555409193\n",
      "Ttest_1sampResult(statistic=2.6843889482452266, pvalue=0.015145186949994355)\n",
      "Community:  16\n",
      "n:  17\n",
      "mean:  1.1269906258076778\n",
      "Ttest_1sampResult(statistic=-2.374082165938444, pvalue=0.03044774760747186)\n",
      "Community:  17\n",
      "n:  9\n",
      "mean:  1.1076993746587087\n",
      "Ttest_1sampResult(statistic=-2.692315670210652, pvalue=0.02739817667842341)\n",
      "Community:  18\n",
      "n:  8\n",
      "mean:  1.2908084371147015\n",
      "Ttest_1sampResult(statistic=-0.41698283096547095, pvalue=0.6891812576661687)\n",
      "Community:  19\n",
      "n:  3\n",
      "mean:  1.323890425220122\n",
      "Ttest_1sampResult(statistic=-0.17550555523961864, pvalue=0.8768435802766956)\n"
     ]
    }
   ],
   "source": [
    "# Plot corsi influence distribution of entire playerbase\n",
    "plot_distributions(\"I_F_points_per60\")\n"
   ]
  },
  {
   "cell_type": "code",
   "execution_count": 263,
   "metadata": {},
   "outputs": [
    {
     "name": "stdout",
     "output_type": "stream",
     "text": [
      "0.41543297221445546\n",
      "0.30281629816296396\n",
      "0.43756860734769126\n",
      "0.23105812122196892\n",
      "0.2097989272291843\n",
      "0.11807608225629788\n",
      "0.18243093475166217\n",
      "0.14788380015237662\n",
      "0.32609041915958903\n",
      "0.34409066042769054\n"
     ]
    }
   ],
   "source": [
    "# Numeric assortativity between nodes\n",
    "# Check to see if the positive graph behaves differently than the complete one\n",
    "def ordinal_stat_assortativity(G, players_df, stat):\n",
    "    # Copy stat in question as node attribute first\n",
    "    stats = copy_attr_to_nodes(G, players_df, stat)\n",
    "    nx.set_node_attributes(G, stats, stat)\n",
    "    return nx.numeric_assortativity_coefficient(G, attribute=stat)\n",
    "\n",
    "print(ordinal_stat_assortativity(G, players_df, 'onIce_corsiPercentage'))\n",
    "print(ordinal_stat_assortativity(G, players_df, 'on_off_corsi_diff'))\n",
    "print(ordinal_stat_assortativity(G, players_df, 'OnIce_F_goals_per60'))\n",
    "print(ordinal_stat_assortativity(G, players_df, 'I_F_dZoneGiveaways_per60'))\n",
    "print(ordinal_stat_assortativity(G, players_df, 'I_F_giveaways_per60'))\n",
    "print(ordinal_stat_assortativity(G, players_df, 'shotsBlockedByPlayer_per60'))\n",
    "print(ordinal_stat_assortativity(G, players_df, 'I_F_hits_per60'))\n",
    "print(ordinal_stat_assortativity(G, players_df, 'I_F_takeaways_per60'))\n",
    "print(ordinal_stat_assortativity(G, players_df, 'I_F_points_per60'))\n",
    "print(ordinal_stat_assortativity(G, players_df, 'average_TOI'))"
   ]
  }
 ],
 "metadata": {
  "kernelspec": {
   "display_name": "Python 3.10.6 64-bit",
   "language": "python",
   "name": "python3"
  },
  "language_info": {
   "codemirror_mode": {
    "name": "ipython",
    "version": 3
   },
   "file_extension": ".py",
   "mimetype": "text/x-python",
   "name": "python",
   "nbconvert_exporter": "python",
   "pygments_lexer": "ipython3",
   "version": "3.8.10"
  },
  "orig_nbformat": 4,
  "vscode": {
   "interpreter": {
    "hash": "916dbcbb3f70747c44a77c7bcd40155683ae19c65e1c03b4aa3499c5328201f1"
   }
  }
 },
 "nbformat": 4,
 "nbformat_minor": 2
}
