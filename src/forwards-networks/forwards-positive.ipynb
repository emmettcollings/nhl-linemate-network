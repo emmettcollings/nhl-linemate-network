{
 "cells": [
  {
   "cell_type": "code",
   "execution_count": 238,
   "metadata": {},
   "outputs": [],
   "source": [
    "import networkx as nx # make sure you installed networkx\n",
    "import pandas as pd\n",
    "import numpy as np"
   ]
  },
  {
   "cell_type": "code",
   "execution_count": 239,
   "metadata": {},
   "outputs": [],
   "source": [
    "# Read in data\n",
    "df = pd.read_csv(\"../../data/forwards/forwards_edgelist_corsi.csv\")\n",
    "players_df = pd.read_csv(\"../../data/forwards/aggregate_forwards.csv\", index_col='playerId', header=0)"
   ]
  },
  {
   "cell_type": "code",
   "execution_count": 240,
   "metadata": {},
   "outputs": [],
   "source": [
    "# Create a network of nodes which are players and the links are players that played together\n",
    "# We create 2 graphs, one for each relationship direction and then compose them for our total graph\n",
    "df = df.rename(columns={'cf_inf_on2':'weight'})\n",
    "G0 = nx.Graph()\n",
    "G0 = nx.from_pandas_edgelist(df, 'playerId1', 'playerId2', ['weight'],create_using=nx.DiGraph)\n",
    "\n",
    "df = df.rename(columns={'weight':'notweight','cf_inf_on1':'weight'})\n",
    "G1 = nx.Graph()\n",
    "G1 = nx.from_pandas_edgelist(df, 'playerId2', 'playerId1', edge_attr='weight',create_using=nx.DiGraph)\n",
    "\n",
    "G = nx.compose(G0, G1)"
   ]
  },
  {
   "cell_type": "code",
   "execution_count": 241,
   "metadata": {},
   "outputs": [],
   "source": [
    "# We are creating this graph specifically for community analysis, so we can clean up irrelevant nodes\n",
    "# Delete edges with 0 or negative influence\n",
    "edge_attrs = nx.get_edge_attributes(G, \"weight\")\n",
    "for edge in edge_attrs.keys():\n",
    "    if edge_attrs[edge] <= 0:\n",
    "        G.remove_edge(edge[0], edge[1])\n",
    "\n",
    "# Delete nodes with no edges\n",
    "G.remove_nodes_from(list(nx.isolates(G)))"
   ]
  },
  {
   "cell_type": "code",
   "execution_count": 242,
   "metadata": {},
   "outputs": [],
   "source": [
    "# Add data to nodes that may be useful for visualization\n",
    "def copy_attr_to_nodes(G, df, attr_name):\n",
    "    nodes_dict = dict.fromkeys(G.nodes)\n",
    "    for node in G.nodes:\n",
    "        node_attr = df.loc[[node]][attr_name].values[0]\n",
    "        nodes_dict[node] = node_attr\n",
    "    return nodes_dict"
   ]
  },
  {
   "cell_type": "code",
   "execution_count": 243,
   "metadata": {},
   "outputs": [],
   "source": [
    "# Copy a whole bunch of relevant stats to nodes for easier data analysis\n",
    "# Add player names to nodes\n",
    "player_names = copy_attr_to_nodes(G, players_df, \"playerName\")\n",
    "nx.set_node_attributes(G, player_names, \"playerName\")\n",
    "\n",
    "# NOTE: this uses data calculated in defense-overall.ipynb\n",
    "# average corsi influence\n",
    "player_avg_inf = copy_attr_to_nodes(G, players_df, \"average_corsi_influence\")\n",
    "nx.set_node_attributes(G, player_names, \"average_corsi_influence\")"
   ]
  },
  {
   "cell_type": "code",
   "execution_count": 244,
   "metadata": {},
   "outputs": [
    {
     "name": "stdout",
     "output_type": "stream",
     "text": [
      "Number of nodes:  737\n",
      "Number of edges:  2670\n"
     ]
    }
   ],
   "source": [
    "# Number of nodes and edges\n",
    "num_nodes = G.number_of_nodes()\n",
    "num_edges = G.number_of_edges()\n",
    "print(\"Number of nodes: \", num_nodes)\n",
    "print(\"Number of edges: \", num_edges)"
   ]
  },
  {
   "cell_type": "code",
   "execution_count": 245,
   "metadata": {},
   "outputs": [],
   "source": [
    "# Run community detection algorithms, add info to graph and export to gephi for visualization\n",
    "import networkx.algorithms.community as nxc\n",
    "\n",
    "# Greedy Modularity\n",
    "communities = nxc.greedy_modularity_communities(G, weight='weight')\n",
    "\n",
    "# add community info to node attributes\n",
    "i = 0\n",
    "communities_dict = dict.fromkeys(G.nodes)\n",
    "for community in communities:\n",
    "    for player in community:\n",
    "        communities_dict[player] = i\n",
    "    i += 1\n",
    "\n",
    "nx.set_node_attributes(G, communities_dict, \"community\")"
   ]
  },
  {
   "cell_type": "code",
   "execution_count": 246,
   "metadata": {},
   "outputs": [],
   "source": [
    "# output a gephi file for ez visualization\n",
    "nx.write_gexf(G, 'forwards-positive.gexf')"
   ]
  },
  {
   "cell_type": "code",
   "execution_count": 247,
   "metadata": {},
   "outputs": [],
   "source": [
    "# Display stat distributions and other relevant stuff to identify trends within and between communities\n",
    "import matplotlib as mpl\n",
    "import matplotlib.pyplot as plt\n",
    "import numpy as np\n",
    "\n",
    "players_df = pd.read_csv(\"../../data/forwards/aggregate_forwards.csv\", index_col='playerId', header=0)\n",
    "\n",
    "# Remove players with less than 20 games to clean up playerbase data a bit\n",
    "players_df_pared = players_df.drop(players_df[players_df.icetime < 12000].index)"
   ]
  },
  {
   "cell_type": "code",
   "execution_count": 248,
   "metadata": {},
   "outputs": [],
   "source": [
    "import scipy.stats as sps\n",
    "import math\n",
    "\n",
    "def plot_distributions(stat):\n",
    "    # Plot distribution of entire playerbase\n",
    "    playerbase_stats = players_df_pared[stat].values\n",
    "    pb_mean = np.nanmean(playerbase_stats)\n",
    "    pb_dev = np.nanstd(playerbase_stats)\n",
    "    print(\"n: \", len(playerbase_stats))\n",
    "    print(\"mean: \", pb_mean)\n",
    "    print(\"std dev: \", pb_dev)\n",
    "    n, bins, patches = plt.hist(playerbase_stats, 30)\n",
    "    plt.xlabel(stat)\n",
    "    plt.ylabel(\"Count\")\n",
    "    plt.title(\"Overall Playerbase \" + stat)\n",
    "    plt.show()\n",
    "\n",
    "    # Plot distribution of each community individually\n",
    "    i = 0\n",
    "    for community in communities:\n",
    "        players_stats = []\n",
    "        for player in community:\n",
    "            players_stats.append(players_df.loc[player][stat])\n",
    "        print(\"Community: \", i)\n",
    "        print(\"n: \", len(players_stats))\n",
    "        print(\"mean: \", np.mean(players_stats))\n",
    "        print(sps.ttest_1samp(players_stats, pb_mean))\n",
    "        # Reduce clutter for now\n",
    "        # plt.hist(players_stats, bins)\n",
    "        # plt.xlabel(stat)\n",
    "        # plt.ylabel(\"Count\")\n",
    "        # title = \"Community: \" + str(i)\n",
    "        # plt.title(title)\n",
    "        # plt.show()\n",
    "        i += 1"
   ]
  },
  {
   "cell_type": "code",
   "execution_count": 249,
   "metadata": {},
   "outputs": [
    {
     "name": "stdout",
     "output_type": "stream",
     "text": [
      "n:  1051\n",
      "mean:  0.6227935906672767\n",
      "std dev:  0.28830226816608523\n"
     ]
    },
    {
     "data": {
      "image/png": "[encoded data removed]",
      "text/plain": [
       "<Figure size 640x480 with 1 Axes>"
      ]
     },
     "metadata": {},
     "output_type": "display_data"
    },
    {
     "name": "stdout",
     "output_type": "stream",
     "text": [
      "Community:  0\n",
      "n:  54\n",
      "mean:  0.5822852252591326\n",
      "Ttest_1sampResult(statistic=-1.4099767795440319, pvalue=0.16438824917656397)\n",
      "Community:  1\n",
      "n:  47\n",
      "mean:  0.7265269311149254\n",
      "Ttest_1sampResult(statistic=2.3036404706180074, pvalue=0.025812474774600115)\n",
      "Community:  2\n",
      "n:  43\n",
      "mean:  0.649469744440035\n",
      "Ttest_1sampResult(statistic=0.7532170353700189, pvalue=0.4555211333808997)\n",
      "Community:  3\n",
      "n:  40\n",
      "mean:  0.5720729563079227\n",
      "Ttest_1sampResult(statistic=-1.3580594751975952, pvalue=0.18225008222932088)\n",
      "Community:  4\n",
      "n:  38\n",
      "mean:  0.6244419020258588\n",
      "Ttest_1sampResult(statistic=0.047098838677893475, pvalue=0.9626877604069128)\n",
      "Community:  5\n",
      "n:  38\n",
      "mean:  0.6280778974036012\n",
      "Ttest_1sampResult(statistic=0.18458368038369502, pvalue=0.854563608577042)\n",
      "Community:  6\n",
      "n:  37\n",
      "mean:  0.709946948781565\n",
      "Ttest_1sampResult(statistic=1.7674983778020514, pvalue=0.0856209932907092)\n",
      "Community:  7\n",
      "n:  36\n",
      "mean:  0.6119852402224029\n",
      "Ttest_1sampResult(statistic=-0.2700068320503022, pvalue=0.7887407044276922)\n",
      "Community:  8\n",
      "n:  35\n",
      "mean:  0.6162054284588867\n",
      "Ttest_1sampResult(statistic=-0.1496019180024277, pvalue=0.8819626065561398)\n",
      "Community:  9\n",
      "n:  34\n",
      "mean:  0.6880818643779762\n",
      "Ttest_1sampResult(statistic=1.2212010276836576, pvalue=0.23066323117723045)\n",
      "Community:  10\n",
      "n:  33\n",
      "mean:  0.6038890979924414\n",
      "Ttest_1sampResult(statistic=-0.5524883718952464, pvalue=0.5844526316309404)\n",
      "Community:  11\n",
      "n:  32\n",
      "mean:  0.5960844371421359\n",
      "Ttest_1sampResult(statistic=-0.5682228775973062, pvalue=0.5739769239732362)\n",
      "Community:  12\n",
      "n:  27\n",
      "mean:  0.6477475894858289\n",
      "Ttest_1sampResult(statistic=0.6448496982270581, pvalue=0.5246741695386479)\n",
      "Community:  13\n",
      "n:  26\n",
      "mean:  0.521749714262752\n",
      "Ttest_1sampResult(statistic=-2.8219538934379056, pvalue=0.009221606166515527)\n",
      "Community:  14\n",
      "n:  23\n",
      "mean:  0.5527607225779712\n",
      "Ttest_1sampResult(statistic=-1.7462458020194405, pvalue=0.0947186377978792)\n",
      "Community:  15\n",
      "n:  23\n",
      "mean:  0.7011078613914469\n",
      "Ttest_1sampResult(statistic=1.6076329137909053, pvalue=0.12217389023773532)\n",
      "Community:  16\n",
      "n:  17\n",
      "mean:  0.5704700127720913\n",
      "Ttest_1sampResult(statistic=-1.1999407620215936, pvalue=0.24762915916682063)\n",
      "Community:  17\n",
      "n:  16\n",
      "mean:  0.6217015029151641\n",
      "Ttest_1sampResult(statistic=-0.024124634494879192, pvalue=0.9810712051971477)\n",
      "Community:  18\n",
      "n:  15\n",
      "mean:  0.654824609717408\n",
      "Ttest_1sampResult(statistic=0.46344791093148713, pvalue=0.6501662267878654)\n",
      "Community:  19\n",
      "n:  15\n",
      "mean:  0.622486701923218\n",
      "Ttest_1sampResult(statistic=-0.0048997656231311165, pvalue=0.9961597030956397)\n",
      "Community:  20\n",
      "n:  15\n",
      "mean:  0.6466255438450782\n",
      "Ttest_1sampResult(statistic=0.35591807509769224, pvalue=0.7272080167676833)\n",
      "Community:  21\n",
      "n:  14\n",
      "mean:  0.6811787880756653\n",
      "Ttest_1sampResult(statistic=1.073140596745687, pvalue=0.3027250228682354)\n",
      "Community:  22\n",
      "n:  11\n",
      "mean:  0.7298571403308465\n",
      "Ttest_1sampResult(statistic=2.0699103167310144, pvalue=0.06529359008439835)\n",
      "Community:  23\n",
      "n:  10\n",
      "mean:  0.5551409190099347\n",
      "Ttest_1sampResult(statistic=-0.6412412844822445, pvalue=0.5373512432728212)\n",
      "Community:  24\n",
      "n:  10\n",
      "mean:  0.5250159814068569\n",
      "Ttest_1sampResult(statistic=-1.173555921662788, pvalue=0.2706934045543164)\n",
      "Community:  25\n",
      "n:  9\n",
      "mean:  0.5792365361471394\n",
      "Ttest_1sampResult(statistic=-0.6489127946043094, pvalue=0.534575503175805)\n",
      "Community:  26\n",
      "n:  6\n",
      "mean:  0.8792145069019681\n",
      "Ttest_1sampResult(statistic=2.7083759117161903, pvalue=0.042358214343875183)\n",
      "Community:  27\n",
      "n:  6\n",
      "mean:  0.5857591112361691\n",
      "Ttest_1sampResult(statistic=-0.6018132421073279, pvalue=0.5735434996437128)\n",
      "Community:  28\n",
      "n:  5\n",
      "mean:  0.3099881172714373\n",
      "Ttest_1sampResult(statistic=-2.4560473393534807, pvalue=0.06998830318356651)\n",
      "Community:  29\n",
      "n:  4\n",
      "mean:  0.3305259438057974\n",
      "Ttest_1sampResult(statistic=-2.4830971694111654, pvalue=0.08902564814479666)\n",
      "Community:  30\n",
      "n:  3\n",
      "mean:  0.2827639067197794\n",
      "Ttest_1sampResult(statistic=-8.735844971478416, pvalue=0.01285152888077206)\n",
      "Community:  31\n",
      "n:  3\n",
      "mean:  0.6433302995931783\n",
      "Ttest_1sampResult(statistic=0.12203972756066515, pvalue=0.914024410851446)\n",
      "Community:  32\n",
      "n:  3\n",
      "mean:  0.6730481285678188\n",
      "Ttest_1sampResult(statistic=0.45699946723359025, pvalue=0.6925087742663765)\n",
      "Community:  33\n",
      "n:  3\n",
      "mean:  0.4322717060529114\n",
      "Ttest_1sampResult(statistic=-4.56730307679799, pvalue=0.04474510144302636)\n",
      "Community:  34\n",
      "n:  3\n",
      "mean:  0.7365176901046756\n",
      "Ttest_1sampResult(statistic=0.4075437284606162, pvalue=0.7230918258020033)\n",
      "Community:  35\n",
      "n:  3\n",
      "mean:  0.4630638725907485\n",
      "Ttest_1sampResult(statistic=-6.297996804053506, pvalue=0.024296250016012814)\n"
     ]
    }
   ],
   "source": [
    "# Plot corsi influence distribution of entire playerbase\n",
    "plot_distributions(\"I_F_dZoneGiveaways_per60\")\n"
   ]
  },
  {
   "cell_type": "code",
   "execution_count": 250,
   "metadata": {},
   "outputs": [
    {
     "name": "stdout",
     "output_type": "stream",
     "text": [
      "0.41886616973068136\n",
      "0.34355619518363517\n",
      "0.45856327364874844\n",
      "0.19243766033404422\n",
      "0.20315147120238583\n",
      "0.12903367770126106\n",
      "0.252406247799537\n",
      "0.15872829884335626\n",
      "0.38180644320900337\n",
      "0.4063996786682392\n"
     ]
    }
   ],
   "source": [
    "# Numeric assortativity between nodes\n",
    "# Check to see if the positive graph behaves differently than the complete one\n",
    "def ordinal_stat_assortativity(G, players_df, stat):\n",
    "    # Copy stat in question as node attribute first\n",
    "    stats = copy_attr_to_nodes(G, players_df, stat)\n",
    "    nx.set_node_attributes(G, stats, stat)\n",
    "    return nx.numeric_assortativity_coefficient(G, attribute=stat)\n",
    "\n",
    "print(ordinal_stat_assortativity(G, players_df, 'onIce_corsiPercentage'))\n",
    "print(ordinal_stat_assortativity(G, players_df, 'on_off_corsi_diff'))\n",
    "print(ordinal_stat_assortativity(G, players_df, 'OnIce_F_goals_per60'))\n",
    "print(ordinal_stat_assortativity(G, players_df, 'I_F_dZoneGiveaways_per60'))\n",
    "print(ordinal_stat_assortativity(G, players_df, 'I_F_giveaways_per60'))\n",
    "print(ordinal_stat_assortativity(G, players_df, 'shotsBlockedByPlayer_per60'))\n",
    "print(ordinal_stat_assortativity(G, players_df, 'I_F_hits_per60'))\n",
    "print(ordinal_stat_assortativity(G, players_df, 'I_F_takeaways_per60'))\n",
    "print(ordinal_stat_assortativity(G, players_df, 'I_F_points_per60'))\n",
    "print(ordinal_stat_assortativity(G, players_df, 'average_TOI'))"
   ]
  }
 ],
 "metadata": {
  "kernelspec": {
   "display_name": "Python 3.10.6 64-bit",
   "language": "python",
   "name": "python3"
  },
  "language_info": {
   "codemirror_mode": {
    "name": "ipython",
    "version": 3
   },
   "file_extension": ".py",
   "mimetype": "text/x-python",
   "name": "python",
   "nbconvert_exporter": "python",
   "pygments_lexer": "ipython3",
   "version": "3.8.10"
  },
  "orig_nbformat": 4,
  "vscode": {
   "interpreter": {
    "hash": "916dbcbb3f70747c44a77c7bcd40155683ae19c65e1c03b4aa3499c5328201f1"
   }
  }
 },
 "nbformat": 4,
 "nbformat_minor": 2
}
