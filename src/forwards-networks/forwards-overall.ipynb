{
 "cells": [
  {
   "cell_type": "code",
   "execution_count": 5,
   "metadata": {},
   "outputs": [],
   "source": [
    "import networkx as nx\n",
    "import numpy as np\n",
    "import pandas as pd"
   ]
  },
  {
   "cell_type": "code",
   "execution_count": 6,
   "metadata": {},
   "outputs": [],
   "source": [
    "# Read in data\n",
    "df = pd.read_csv(\"../../data/forwards/forwards_edgelist_corsi.csv\")\n",
    "players_df = pd.read_csv(\"../../data/forwards/aggregate_forwards.csv\", index_col='playerId', header=0)"
   ]
  },
  {
   "cell_type": "code",
   "execution_count": 7,
   "metadata": {},
   "outputs": [],
   "source": [
    "# Graph with 2 edges per pairing\n",
    "# Create a network of nodes which are players and the links are players that played together\n",
    "# We create 2 graphs, one for each relationship direction and then compose them for our total graph\n",
    "df = df.rename(columns={'cf_inf_on2':'weight'})\n",
    "G0 = nx.Graph()\n",
    "G0 = nx.from_pandas_edgelist(df, 'playerId1', 'playerId2', ['weight'],create_using=nx.DiGraph)\n",
    "\n",
    "df = df.rename(columns={'weight':'notweight','cf_inf_on1':'weight'})\n",
    "G1 = nx.Graph()\n",
    "G1 = nx.from_pandas_edgelist(df, 'playerId2', 'playerId1', edge_attr='weight',create_using=nx.DiGraph)\n",
    "\n",
    "G = nx.compose(G0, G1)"
   ]
  },
  {
   "cell_type": "code",
   "execution_count": 8,
   "metadata": {},
   "outputs": [],
   "source": [
    "# Add data to nodes that may be useful for visualization\n",
    "def copy_attr_to_nodes(G, df, attr_name):\n",
    "    nodes_dict = dict.fromkeys(G.nodes)\n",
    "    for node in G.nodes:\n",
    "        node_attr = df.loc[[node]][attr_name].values[0]\n",
    "        nodes_dict[node] = node_attr\n",
    "    return nodes_dict"
   ]
  },
  {
   "cell_type": "code",
   "execution_count": 9,
   "metadata": {},
   "outputs": [],
   "source": [
    "# Add player names to nodes\n",
    "player_names = copy_attr_to_nodes(G, players_df, \"playerName\")\n",
    "nx.set_node_attributes(G, player_names, \"playerName\")"
   ]
  },
  {
   "cell_type": "code",
   "execution_count": 10,
   "metadata": {},
   "outputs": [],
   "source": [
    "# output a gephi file for ez visualization\n",
    "nx.write_gexf(G, 'forwards.gexf')"
   ]
  },
  {
   "cell_type": "code",
   "execution_count": 11,
   "metadata": {},
   "outputs": [
    {
     "name": "stdout",
     "output_type": "stream",
     "text": [
      "Number of nodes:  802\n",
      "Number of edges:  7114\n"
     ]
    }
   ],
   "source": [
    "# Number of nodes and edges\n",
    "num_nodes = G.number_of_nodes()\n",
    "num_edges = G.number_of_edges()\n",
    "print(\"Number of nodes: \", num_nodes)\n",
    "print(\"Number of edges: \", num_edges)"
   ]
  },
  {
   "cell_type": "code",
   "execution_count": 12,
   "metadata": {},
   "outputs": [],
   "source": [
    "# Average outgoing link weight. This determines which players had the greatest effect on their linemates\n",
    "# Do total out degree as well\n",
    "out_degrees = G.out_degree(weight=\"weight\")\n",
    "for player_out_degree in out_degrees:\n",
    "    player_id = player_out_degree[0]\n",
    "    avg_out_weight = player_out_degree[1] / G.out_degree(player_id)\n",
    "    players_df.loc[player_id, \"average_corsi_influence\"] = avg_out_weight\n",
    "    players_df.loc[player_id, \"total_out_influence\"] = player_out_degree[1]\n",
    "\n",
    "output_file = '../../data/forwards/aggregate_forwards.csv'\n",
    "players_df.to_csv(output_file)"
   ]
  },
  {
   "cell_type": "code",
   "execution_count": 14,
   "metadata": {},
   "outputs": [],
   "source": [
    "# Correlations between stats. We are mainly interested in the correlation with average and total influence\n",
    "players_df.corr(numeric_only=True, method='spearman').to_csv(\"../../data/forwards/correlations.csv\")"
   ]
  },
  {
   "cell_type": "code",
   "execution_count": 20,
   "metadata": {},
   "outputs": [
    {
     "name": "stdout",
     "output_type": "stream",
     "text": [
      "0.3926470240386087\n",
      "0.3023187808008627\n",
      "0.43906941019581985\n",
      "0.21659358921311042\n",
      "0.20768090493916566\n",
      "0.12043422114686607\n",
      "0.21176270513776924\n",
      "0.1503037837128194\n"
     ]
    }
   ],
   "source": [
    "# Numeric assortativity between nodes\n",
    "def ordinal_stat_assortativity(G, players_df, stat):\n",
    "    # Copy stat in question as node attribute first\n",
    "    stats = copy_attr_to_nodes(G, players_df, stat)\n",
    "    nx.set_node_attributes(G, stats, stat)\n",
    "    return nx.numeric_assortativity_coefficient(G, attribute=stat)\n",
    "\n",
    "print(ordinal_stat_assortativity(G, players_df, 'onIce_corsiPercentage'))\n",
    "print(ordinal_stat_assortativity(G, players_df, 'on_off_corsi_diff'))\n",
    "print(ordinal_stat_assortativity(G, players_df, 'OnIce_F_goals_per60'))\n",
    "print(ordinal_stat_assortativity(G, players_df, 'I_F_dZoneGiveaways_per60'))\n",
    "print(ordinal_stat_assortativity(G, players_df, 'I_F_giveaways_per60'))\n",
    "print(ordinal_stat_assortativity(G, players_df, 'shotsBlockedByPlayer_per60'))\n",
    "print(ordinal_stat_assortativity(G, players_df, 'I_F_hits_per60'))\n",
    "print(ordinal_stat_assortativity(G, players_df, 'I_F_takeaways_per60'))"
   ]
  }
 ],
 "metadata": {
  "kernelspec": {
   "display_name": "Python 3.10.6 64-bit",
   "language": "python",
   "name": "python3"
  },
  "language_info": {
   "codemirror_mode": {
    "name": "ipython",
    "version": 3
   },
   "file_extension": ".py",
   "mimetype": "text/x-python",
   "name": "python",
   "nbconvert_exporter": "python",
   "pygments_lexer": "ipython3",
   "version": "3.8.10"
  },
  "orig_nbformat": 4,
  "vscode": {
   "interpreter": {
    "hash": "916dbcbb3f70747c44a77c7bcd40155683ae19c65e1c03b4aa3499c5328201f1"
   }
  }
 },
 "nbformat": 4,
 "nbformat_minor": 2
}
