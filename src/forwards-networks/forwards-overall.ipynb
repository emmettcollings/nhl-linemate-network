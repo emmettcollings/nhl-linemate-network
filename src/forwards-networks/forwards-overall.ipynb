{
 "cells": [
  {
   "cell_type": "code",
   "execution_count": 1,
   "metadata": {},
   "outputs": [],
   "source": [
    "import networkx as nx\n",
    "import numpy as np\n",
    "import pandas as pd"
   ]
  },
  {
   "cell_type": "code",
   "execution_count": null,
   "metadata": {},
   "outputs": [],
   "source": [
    "# Graph with 2 edges per pairing\n",
    "# Read in data\n",
    "df = pd.read_csv(\"../../data/forwards/forwards_edgelist_corsi.csv\")\n",
    "\n",
    "# Create a network of nodes which are players and the links are players that played together\n",
    "# We create 2 graphs, one for each relationship direction and then compose them for our total graph\n",
    "df = df.rename(columns={'cf_inf_on2':'weight'})\n",
    "G0 = nx.Graph()\n",
    "G0 = nx.from_pandas_edgelist(df, 'playerId1', 'playerId2', ['weight'],create_using=nx.DiGraph)\n",
    "\n",
    "df = df.rename(columns={'weight':'notweight','cf_inf_on1':'weight'})\n",
    "G1 = nx.Graph()\n",
    "G1 = nx.from_pandas_edgelist(df, 'playerId2', 'playerId1', edge_attr='weight',create_using=nx.DiGraph)\n",
    "\n",
    "G = nx.compose(G0, G1)\n",
    "\n",
    "# Add player names to nodes\n",
    "players_df = pd.read_csv(\"../../data/forwards/aggregate_forwards.csv\", index_col='playerId', header=0)\n",
    "player_names = dict.fromkeys(G.nodes)\n",
    "for player in G.nodes:\n",
    "    player_name = players_df.loc[[player]][\"playerName\"].values[0]\n",
    "    player_names[player] = player_name\n",
    "\n",
    "nx.set_node_attributes(G, player_names, \"playerName\")\n",
    "\n",
    "# output a gephi file for ez visualization\n",
    "nx.write_gexf(G, 'forwards.gexf')"
   ]
  }
 ],
 "metadata": {
  "kernelspec": {
   "display_name": "Python 3.10.6 64-bit",
   "language": "python",
   "name": "python3"
  },
  "language_info": {
   "codemirror_mode": {
    "name": "ipython",
    "version": 3
   },
   "file_extension": ".py",
   "mimetype": "text/x-python",
   "name": "python",
   "nbconvert_exporter": "python",
   "pygments_lexer": "ipython3",
   "version": "3.10.6"
  },
  "orig_nbformat": 4,
  "vscode": {
   "interpreter": {
    "hash": "7d6993cb2f9ce9a59d5d7380609d9cb5192a9dedd2735a011418ad9e827eb538"
   }
  }
 },
 "nbformat": 4,
 "nbformat_minor": 2
}
