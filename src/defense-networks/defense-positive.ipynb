{
 "cells": [
  {
   "cell_type": "markdown",
   "metadata": {},
   "source": [
    "# Network Construction"
   ]
  },
  {
   "cell_type": "code",
   "execution_count": 31,
   "metadata": {},
   "outputs": [],
   "source": [
    "# deps\n",
    "import networkx as nx\n",
    "import pandas as pd\n",
    "import numpy as np"
   ]
  },
  {
   "cell_type": "code",
   "execution_count": 32,
   "metadata": {},
   "outputs": [],
   "source": [
    "# Read in data\n",
    "edges_df = pd.read_csv(\"../../data/defense/defensemen_edgelist_corsi.csv\")\n",
    "players_df = pd.read_csv(\"../../data/defense/aggregate_defensemen.csv\", index_col='playerId', header=0)"
   ]
  },
  {
   "cell_type": "code",
   "execution_count": 33,
   "metadata": {},
   "outputs": [],
   "source": [
    "# Construct graph from our edgelist\n",
    "# Create a network of nodes which are players and the links are players that played together\n",
    "# We create 2 graphs, one for each relationship direction and then compose them for our total graph\n",
    "edges_df = edges_df.rename(columns={'corsi_influence_on_player2':'weight'})\n",
    "G0 = nx.Graph()\n",
    "G0 = nx.from_pandas_edgelist(edges_df, 'playerId1', 'playerId2', ['weight'],create_using=nx.DiGraph)\n",
    "\n",
    "edges_df = edges_df.rename(columns={'weight':'notweight','corsi_influence_on_player1':'weight'})\n",
    "G1 = nx.Graph()\n",
    "G1 = nx.from_pandas_edgelist(edges_df, 'playerId2', 'playerId1', edge_attr='weight',create_using=nx.DiGraph)\n",
    "\n",
    "G = nx.compose(G0, G1)"
   ]
  },
  {
   "cell_type": "code",
   "execution_count": 34,
   "metadata": {},
   "outputs": [],
   "source": [
    "# Clean up graph for community analysis\n",
    "# Delete edges with 0 or negative influence\n",
    "edge_attrs = nx.get_edge_attributes(G, \"weight\")\n",
    "for edge in edge_attrs.keys():\n",
    "    if edge_attrs[edge] >= 0:\n",
    "        G.remove_edge(edge[0], edge[1])\n",
    "\n",
    "# Delete nodes with no edges\n",
    "G.remove_nodes_from(list(nx.isolates(G)))"
   ]
  },
  {
   "cell_type": "code",
   "execution_count": 35,
   "metadata": {},
   "outputs": [],
   "source": [
    "# Add data to nodes that may be useful for visualization\n",
    "def copy_attr_to_nodes(G, df, attr_name):\n",
    "    nodes_dict = dict.fromkeys(G.nodes)\n",
    "    for node in G.nodes:\n",
    "        node_attr = df.loc[[node]][attr_name].values[0]\n",
    "        nodes_dict[node] = node_attr\n",
    "    return nodes_dict\n",
    "\n",
    "\n",
    "# Add player names to nodes\n",
    "player_names = copy_attr_to_nodes(G, players_df, \"playerName\")\n",
    "nx.set_node_attributes(G, player_names, \"playerName\")\n",
    "\n",
    "# on ice corsi\n",
    "player_onIce_corsis = copy_attr_to_nodes(G, players_df, \"onIce_corsiPercentage\")\n",
    "nx.set_node_attributes(G, player_onIce_corsis, \"onIce_corsiPercentage\")\n",
    "\n",
    "# off ice corsi\n",
    "player_offIce_corsis = copy_attr_to_nodes(G, players_df, \"offIce_corsiPercentage\")\n",
    "nx.set_node_attributes(G, player_offIce_corsis, \"offIce_corsiPercentage\")\n",
    "\n",
    "# on/off ice corsi diff\n",
    "player_corsi_diffs = copy_attr_to_nodes(G, players_df, \"on_off_corsi_diff\")\n",
    "nx.set_node_attributes(G, player_corsi_diffs, \"on_off_corsi_diff\")\n",
    "\n",
    "# on ice goals for per 60\n",
    "player_gf_per60s = copy_attr_to_nodes(G, players_df, \"OnIce_F_goals_per60\")\n",
    "nx.set_node_attributes(G, player_gf_per60s, \"onIce_F_goals_per60\")\n"
   ]
  },
  {
   "cell_type": "markdown",
   "metadata": {},
   "source": [
    "# Community Analysis"
   ]
  },
  {
   "cell_type": "code",
   "execution_count": 36,
   "metadata": {},
   "outputs": [
    {
     "name": "stdout",
     "output_type": "stream",
     "text": [
      "15\n"
     ]
    }
   ],
   "source": [
    "# Run community detection algorithms, add info to graph and export to gephi for visualization\n",
    "import networkx.algorithms.community as nxc\n",
    "\n",
    "# Greedy Modularity\n",
    "communities = nxc.greedy_modularity_communities(G, weight='weight')\n",
    "print(len(communities))\n",
    "\n",
    "# add community info to node attributes\n",
    "i = 0\n",
    "communities_dict = dict.fromkeys(G.nodes)\n",
    "for community in communities:\n",
    "    for player in community:\n",
    "        communities_dict[player] = i\n",
    "    i += 1\n",
    "\n",
    "nx.set_node_attributes(G, communities_dict, \"community\")\n",
    "\n",
    "# output a gephi file for ez visualization\n",
    "nx.write_gexf(G, 'defense-positive.gexf')\n"
   ]
  },
  {
   "cell_type": "code",
   "execution_count": 37,
   "metadata": {},
   "outputs": [],
   "source": [
    "# Display stat distributions and other relevant stuff to identify trends within and between communities\n",
    "import matplotlib as mpl\n",
    "import matplotlib.pyplot as plt\n",
    "import numpy as np\n",
    "\n",
    "players_df = pd.read_csv(\"../../data/defense/aggregate_defensemen.csv\", index_col='playerId', header=0)\n",
    "\n",
    "# Remove players with less than 10 games to clean up playerbase data a bit\n",
    "players_df_pared = players_df.drop(players_df[players_df.games_played < 10].index)\n"
   ]
  },
  {
   "cell_type": "code",
   "execution_count": 38,
   "metadata": {},
   "outputs": [],
   "source": [
    "import scipy.stats as sps\n",
    "\n",
    "def plot_distributions(stat):\n",
    "    # Plot distribution of entire playerbase\n",
    "    playerbase_stats = players_df_pared[stat].values\n",
    "    pb_mean = np.nanmean(playerbase_stats)\n",
    "    pb_dev = np.nanstd(playerbase_stats)\n",
    "    print(\"n: \", len(playerbase_stats))\n",
    "    print(\"mean: \", pb_mean)\n",
    "    print(\"std dev: \", pb_dev)\n",
    "    n, bins, patches = plt.hist(playerbase_stats, 30)\n",
    "    plt.xlabel(stat)\n",
    "    plt.ylabel(\"Count\")\n",
    "    plt.title(\"Overall Playerbase \" + stat)\n",
    "    plt.show()\n",
    "\n",
    "    # Plot distribution of each community individually\n",
    "    i = 0\n",
    "    for community in communities:\n",
    "        players_stats = []\n",
    "        for player in community:\n",
    "            players_stats.append(players_df.loc[player][stat])\n",
    "        print(\"Community: \", i)\n",
    "        print(\"n: \", len(players_stats))\n",
    "        print(\"mean: \", np.mean(players_stats))\n",
    "        print(sps.ttest_1samp(players_stats, pb_mean))\n",
    "        # Reduce clutter for now\n",
    "        # plt.hist(players_stats, bins)\n",
    "        # plt.xlabel(stat)\n",
    "        # plt.ylabel(\"Count\")\n",
    "        # title = \"Community: \" + str(i)\n",
    "        # plt.title(title)\n",
    "        # plt.show()\n",
    "        i += 1"
   ]
  },
  {
   "cell_type": "code",
   "execution_count": 39,
   "metadata": {},
   "outputs": [
    {
     "name": "stdout",
     "output_type": "stream",
     "text": [
      "n:  608\n",
      "mean:  0.4906513230206396\n",
      "std dev:  0.032884988693816515\n"
     ]
    },
    {
     "data": {
      "image/png": "[encoded data removed]",
      "text/plain": [
       "<Figure size 640x480 with 1 Axes>"
      ]
     },
     "metadata": {},
     "output_type": "display_data"
    },
    {
     "name": "stdout",
     "output_type": "stream",
     "text": [
      "Community:  0\n",
      "n:  55\n",
      "mean:  0.48917740620190453\n",
      "Ttest_1sampResult(statistic=-0.35455954981240256, pvalue=0.7243005127061657)\n",
      "Community:  1\n",
      "n:  45\n",
      "mean:  0.5009182414734069\n",
      "Ttest_1sampResult(statistic=2.2029443057833196, pvalue=0.032881051747636274)\n",
      "Community:  2\n",
      "n:  45\n",
      "mean:  0.48138596772899533\n",
      "Ttest_1sampResult(statistic=-2.141548005754863, pvalue=0.03780575603863264)\n",
      "Community:  3\n",
      "n:  45\n",
      "mean:  0.5017218195010824\n",
      "Ttest_1sampResult(statistic=2.490961170559852, pvalue=0.016585215933217913)\n",
      "Community:  4\n",
      "n:  43\n",
      "mean:  0.49102609505380457\n",
      "Ttest_1sampResult(statistic=0.08761555030555922, pvalue=0.9305986578261902)\n",
      "Community:  5\n",
      "n:  39\n",
      "mean:  0.48543470859419013\n",
      "Ttest_1sampResult(statistic=-0.8786527400198026, pvalue=0.3851118887330306)\n",
      "Community:  6\n",
      "n:  39\n",
      "mean:  0.4982497019630921\n",
      "Ttest_1sampResult(statistic=1.8944782760765695, pvalue=0.06579053253343815)\n",
      "Community:  7\n",
      "n:  36\n",
      "mean:  0.4885087588436374\n",
      "Ttest_1sampResult(statistic=-0.48857568679702446, pvalue=0.6281895244842131)\n",
      "Community:  8\n",
      "n:  30\n",
      "mean:  0.4847672262671414\n",
      "Ttest_1sampResult(statistic=-1.156672595855218, pvalue=0.256845733912313)\n",
      "Community:  9\n",
      "n:  28\n",
      "mean:  0.4950335267157981\n",
      "Ttest_1sampResult(statistic=1.1417839400296343, pvalue=0.26356917415892334)\n",
      "Community:  10\n",
      "n:  26\n",
      "mean:  0.4964517607095051\n",
      "Ttest_1sampResult(statistic=1.2241801677157682, pvalue=0.23229598137763588)\n",
      "Community:  11\n",
      "n:  25\n",
      "mean:  0.4958322027767792\n",
      "Ttest_1sampResult(statistic=1.1862510285788161, pvalue=0.24713431927817373)\n",
      "Community:  12\n",
      "n:  23\n",
      "mean:  0.481156424067382\n",
      "Ttest_1sampResult(statistic=-1.9952887542769195, pvalue=0.05854223915739383)\n",
      "Community:  13\n",
      "n:  21\n",
      "mean:  0.4819594727070557\n",
      "Ttest_1sampResult(statistic=-1.1745188983496089, pvalue=0.25398284265997617)\n",
      "Community:  14\n",
      "n:  16\n",
      "mean:  0.4931878644317123\n",
      "Ttest_1sampResult(statistic=0.32565173400876474, pvalue=0.7491863401313525)\n"
     ]
    }
   ],
   "source": [
    "plot_distributions('onIce_corsiPercentage')"
   ]
  }
 ],
 "metadata": {
  "kernelspec": {
   "display_name": "Python 3.10.6 64-bit",
   "language": "python",
   "name": "python3"
  },
  "language_info": {
   "codemirror_mode": {
    "name": "ipython",
    "version": 3
   },
   "file_extension": ".py",
   "mimetype": "text/x-python",
   "name": "python",
   "nbconvert_exporter": "python",
   "pygments_lexer": "ipython3",
   "version": "3.8.10"
  },
  "orig_nbformat": 4,
  "vscode": {
   "interpreter": {
    "hash": "916dbcbb3f70747c44a77c7bcd40155683ae19c65e1c03b4aa3499c5328201f1"
   }
  }
 },
 "nbformat": 4,
 "nbformat_minor": 2
}
