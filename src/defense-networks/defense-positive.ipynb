{
 "cells": [
  {
   "cell_type": "markdown",
   "metadata": {},
   "source": [
    "# Network Construction"
   ]
  },
  {
   "cell_type": "code",
   "execution_count": 89,
   "metadata": {},
   "outputs": [],
   "source": [
    "# deps\n",
    "import networkx as nx\n",
    "import pandas as pd\n",
    "import numpy as np"
   ]
  },
  {
   "cell_type": "code",
   "execution_count": 90,
   "metadata": {},
   "outputs": [],
   "source": [
    "# Read in data\n",
    "edges_df = pd.read_csv(\"../../data/defense/defensemen_edgelist_corsi.csv\")\n",
    "players_df = pd.read_csv(\"../../data/defense/aggregate_defensemen.csv\", index_col='playerId', header=0)"
   ]
  },
  {
   "cell_type": "code",
   "execution_count": 91,
   "metadata": {},
   "outputs": [],
   "source": [
    "# Construct graph from our edgelist\n",
    "# Create a network of nodes which are players and the links are players that played together\n",
    "# We create 2 graphs, one for each relationship direction and then compose them for our total graph\n",
    "edges_df = edges_df.rename(columns={'corsi_influence_on_player2':'weight'})\n",
    "G0 = nx.Graph()\n",
    "G0 = nx.from_pandas_edgelist(edges_df, 'playerId1', 'playerId2', ['weight'],create_using=nx.DiGraph)\n",
    "\n",
    "edges_df = edges_df.rename(columns={'weight':'notweight','corsi_influence_on_player1':'weight'})\n",
    "G1 = nx.Graph()\n",
    "G1 = nx.from_pandas_edgelist(edges_df, 'playerId2', 'playerId1', edge_attr='weight',create_using=nx.DiGraph)\n",
    "\n",
    "G = nx.compose(G0, G1)"
   ]
  },
  {
   "cell_type": "code",
   "execution_count": 92,
   "metadata": {},
   "outputs": [],
   "source": [
    "# Clean up graph for community analysis\n",
    "# Delete edges with 0 or negative influence\n",
    "edge_attrs = nx.get_edge_attributes(G, \"weight\")\n",
    "for edge in edge_attrs.keys():\n",
    "    if edge_attrs[edge] <= 0:\n",
    "        G.remove_edge(edge[0], edge[1])\n",
    "\n",
    "# Delete nodes with no edges\n",
    "G.remove_nodes_from(list(nx.isolates(G)))"
   ]
  },
  {
   "cell_type": "code",
   "execution_count": 93,
   "metadata": {},
   "outputs": [],
   "source": [
    "# Add data to nodes that may be useful for visualization\n",
    "def copy_attr_to_nodes(G, df, attr_name):\n",
    "    nodes_dict = dict.fromkeys(G.nodes)\n",
    "    for node in G.nodes:\n",
    "        node_attr = df.loc[[node]][attr_name].values[0]\n",
    "        nodes_dict[node] = node_attr\n",
    "    return nodes_dict\n",
    "\n",
    "\n",
    "# Add player names to nodes\n",
    "player_names = copy_attr_to_nodes(G, players_df, \"playerName\")\n",
    "nx.set_node_attributes(G, player_names, \"playerName\")\n",
    "\n",
    "# on ice corsi\n",
    "player_onIce_corsis = copy_attr_to_nodes(G, players_df, \"onIce_corsiPercentage\")\n",
    "nx.set_node_attributes(G, player_onIce_corsis, \"onIce_corsiPercentage\")\n",
    "\n",
    "# off ice corsi\n",
    "player_offIce_corsis = copy_attr_to_nodes(G, players_df, \"offIce_corsiPercentage\")\n",
    "nx.set_node_attributes(G, player_offIce_corsis, \"offIce_corsiPercentage\")\n",
    "\n",
    "# on/off ice corsi diff\n",
    "player_corsi_diffs = copy_attr_to_nodes(G, players_df, \"on_off_corsi_diff\")\n",
    "nx.set_node_attributes(G, player_corsi_diffs, \"on_off_corsi_diff\")\n",
    "\n",
    "# on ice goals for per 60\n",
    "player_gf_per60s = copy_attr_to_nodes(G, players_df, \"OnIce_F_goals_per60\")\n",
    "nx.set_node_attributes(G, player_gf_per60s, \"onIce_F_goals_per60\")\n"
   ]
  },
  {
   "cell_type": "markdown",
   "metadata": {},
   "source": [
    "# Community Analysis"
   ]
  },
  {
   "cell_type": "code",
   "execution_count": 94,
   "metadata": {},
   "outputs": [
    {
     "name": "stdout",
     "output_type": "stream",
     "text": [
      "24\n"
     ]
    }
   ],
   "source": [
    "# Run community detection algorithms, add info to graph and export to gephi for visualization\n",
    "import networkx.algorithms.community as nxc\n",
    "\n",
    "# Greedy Modularity\n",
    "communities = nxc.greedy_modularity_communities(G, weight='weight')\n",
    "print(len(communities))\n",
    "\n",
    "# add community info to node attributes\n",
    "i = 0\n",
    "communities_dict = dict.fromkeys(G.nodes)\n",
    "for community in communities:\n",
    "    for player in community:\n",
    "        communities_dict[player] = i\n",
    "    i += 1\n",
    "\n",
    "nx.set_node_attributes(G, communities_dict, \"community\")\n",
    "\n",
    "# output a gephi file for ez visualization\n",
    "nx.write_gexf(G, 'defense-positive.gexf')\n"
   ]
  },
  {
   "cell_type": "code",
   "execution_count": 95,
   "metadata": {},
   "outputs": [],
   "source": [
    "# Display stat distributions and other relevant stuff to identify trends within and between communities\n",
    "import matplotlib as mpl\n",
    "import matplotlib.pyplot as plt\n",
    "import numpy as np\n",
    "\n",
    "players_df = pd.read_csv(\"../../data/defense/aggregate_defensemen.csv\", index_col='playerId', header=0)\n",
    "\n",
    "# Remove players with less than 10 games to clean up playerbase data a bit\n",
    "players_df_pared = players_df.drop(players_df[players_df.games_played < 10].index)\n"
   ]
  },
  {
   "cell_type": "code",
   "execution_count": 96,
   "metadata": {},
   "outputs": [],
   "source": [
    "import scipy.stats as sps\n",
    "\n",
    "def plot_distributions(stat):\n",
    "    # Plot distribution of entire playerbase\n",
    "    playerbase_stats = players_df_pared[stat].values\n",
    "    pb_mean = np.nanmean(playerbase_stats)\n",
    "    pb_dev = np.nanstd(playerbase_stats)\n",
    "    print(\"n: \", len(playerbase_stats))\n",
    "    print(\"mean: \", pb_mean)\n",
    "    print(\"std dev: \", pb_dev)\n",
    "    n, bins, patches = plt.hist(playerbase_stats, 30)\n",
    "    plt.xlabel(stat)\n",
    "    plt.ylabel(\"Count\")\n",
    "    plt.title(\"Overall Playerbase \" + stat)\n",
    "    plt.show()\n",
    "\n",
    "    # Plot distribution of each community individually\n",
    "    i = 0\n",
    "    for community in communities:\n",
    "        players_stats = []\n",
    "        for player in community:\n",
    "            players_stats.append(players_df.loc[player][stat])\n",
    "        print(\"Community: \", i)\n",
    "        print(\"n: \", len(players_stats))\n",
    "        print(\"mean: \", np.mean(players_stats))\n",
    "        print(sps.ttest_1samp(players_stats, pb_mean))\n",
    "        # Reduce clutter for now\n",
    "        # plt.hist(players_stats, bins)\n",
    "        # plt.xlabel(stat)\n",
    "        # plt.ylabel(\"Count\")\n",
    "        # title = \"Community: \" + str(i)\n",
    "        # plt.title(title)\n",
    "        # plt.show()\n",
    "        i += 1"
   ]
  },
  {
   "cell_type": "code",
   "execution_count": 97,
   "metadata": {},
   "outputs": [
    {
     "name": "stdout",
     "output_type": "stream",
     "text": [
      "n:  608\n",
      "mean:  4.144631353846916\n",
      "std dev:  1.0481326525336176\n"
     ]
    },
    {
     "data": {
      "image/png": "[encoded data removed]",
      "text/plain": [
       "<Figure size 640x480 with 1 Axes>"
      ]
     },
     "metadata": {},
     "output_type": "display_data"
    },
    {
     "name": "stdout",
     "output_type": "stream",
     "text": [
      "Community:  0\n",
      "n:  63\n",
      "mean:  4.294328039992607\n",
      "Ttest_1sampResult(statistic=1.1991036318003536, pvalue=0.2350504901057324)\n",
      "Community:  1\n",
      "n:  53\n",
      "mean:  4.323721320143108\n",
      "Ttest_1sampResult(statistic=1.5483215577313796, pvalue=0.12761005887869298)\n",
      "Community:  2\n",
      "n:  46\n",
      "mean:  4.439585126018016\n",
      "Ttest_1sampResult(statistic=2.1662329075127187, pvalue=0.03562909220088356)\n",
      "Community:  3\n",
      "n:  41\n",
      "mean:  4.006555113204022\n",
      "Ttest_1sampResult(statistic=-0.8554955057657779, pvalue=0.3973724591903671)\n",
      "Community:  4\n",
      "n:  39\n",
      "mean:  3.5343271873619346\n",
      "Ttest_1sampResult(statistic=-5.0681332694675945, pvalue=1.0729279941286e-05)\n",
      "Community:  5\n",
      "n:  32\n",
      "mean:  4.195795283274736\n",
      "Ttest_1sampResult(statistic=0.32310208892966363, pvalue=0.7487873536517932)\n",
      "Community:  6\n",
      "n:  31\n",
      "mean:  4.386208220320532\n",
      "Ttest_1sampResult(statistic=1.0205055778694894, pvalue=0.3156482534602836)\n",
      "Community:  7\n",
      "n:  31\n",
      "mean:  4.2664139988323075\n",
      "Ttest_1sampResult(statistic=0.8926500336670646, pvalue=0.37914935460558574)\n",
      "Community:  8\n",
      "n:  30\n",
      "mean:  3.681679334936594\n",
      "Ttest_1sampResult(statistic=-3.094914057401915, pvalue=0.004333479610610886)\n",
      "Community:  9\n",
      "n:  26\n",
      "mean:  4.529238631786445\n",
      "Ttest_1sampResult(statistic=1.5977095368207013, pvalue=0.1226717686701976)\n",
      "Community:  10\n",
      "n:  26\n",
      "mean:  4.245429032498638\n",
      "Ttest_1sampResult(statistic=0.6876258304681497, pvalue=0.4980189751825356)\n",
      "Community:  11\n",
      "n:  24\n",
      "mean:  4.294850823242709\n",
      "Ttest_1sampResult(statistic=0.7554190391005817, pvalue=0.45766453536391993)\n",
      "Community:  12\n",
      "n:  19\n",
      "mean:  4.241816365311609\n",
      "Ttest_1sampResult(statistic=0.39908637085916515, pvalue=0.694524643899312)\n",
      "Community:  13\n",
      "n:  16\n",
      "mean:  4.042822974588387\n",
      "Ttest_1sampResult(statistic=-0.35085349032205987, pvalue=0.7305771778170278)\n",
      "Community:  14\n",
      "n:  12\n",
      "mean:  3.732333191663636\n",
      "Ttest_1sampResult(statistic=-1.6860963739982417, pvalue=0.11989906043802473)\n",
      "Community:  15\n",
      "n:  7\n",
      "mean:  3.6838522433410463\n",
      "Ttest_1sampResult(statistic=-1.5597086827061681, pvalue=0.16984592460750922)\n",
      "Community:  16\n",
      "n:  7\n",
      "mean:  3.3638248418866623\n",
      "Ttest_1sampResult(statistic=-2.518497497150051, pvalue=0.04537910929057745)\n",
      "Community:  17\n",
      "n:  3\n",
      "mean:  4.392490222300594\n",
      "Ttest_1sampResult(statistic=0.587379579195368, pvalue=0.6164287458254393)\n",
      "Community:  18\n",
      "n:  3\n",
      "mean:  4.161474597414299\n",
      "Ttest_1sampResult(statistic=0.030998950634942925, pvalue=0.9780856957193247)\n",
      "Community:  19\n",
      "n:  2\n",
      "mean:  4.234523589927841\n",
      "Ttest_1sampResult(statistic=1.4457794521966654, pvalue=0.38522651274058306)\n",
      "Community:  20\n",
      "n:  2\n",
      "mean:  4.690873316377868\n",
      "Ttest_1sampResult(statistic=0.7597862427212424, pvalue=0.5863658902540256)\n",
      "Community:  21\n",
      "n:  2\n",
      "mean:  3.176894187570846\n",
      "Ttest_1sampResult(statistic=-4.45118926897368, pvalue=0.1406865447316421)\n",
      "Community:  22\n",
      "n:  2\n",
      "mean:  3.5698975189761506\n",
      "Ttest_1sampResult(statistic=-11.472042279970465, pvalue=0.05535323625370466)\n",
      "Community:  23\n",
      "n:  2\n",
      "mean:  4.778945262899851\n",
      "Ttest_1sampResult(statistic=2.65553457326558, pvalue=0.22927744008644493)\n"
     ]
    }
   ],
   "source": [
    "plot_distributions('I_F_hits_per60')"
   ]
  }
 ],
 "metadata": {
  "kernelspec": {
   "display_name": "Python 3.10.6 64-bit",
   "language": "python",
   "name": "python3"
  },
  "language_info": {
   "codemirror_mode": {
    "name": "ipython",
    "version": 3
   },
   "file_extension": ".py",
   "mimetype": "text/x-python",
   "name": "python",
   "nbconvert_exporter": "python",
   "pygments_lexer": "ipython3",
   "version": "3.8.10"
  },
  "orig_nbformat": 4,
  "vscode": {
   "interpreter": {
    "hash": "916dbcbb3f70747c44a77c7bcd40155683ae19c65e1c03b4aa3499c5328201f1"
   }
  }
 },
 "nbformat": 4,
 "nbformat_minor": 2
}
