{
 "cells": [
  {
   "attachments": {},
   "cell_type": "markdown",
   "metadata": {},
   "source": [
    "# Network Construction\n"
   ]
  },
  {
   "cell_type": "code",
   "execution_count": 1,
   "metadata": {},
   "outputs": [],
   "source": [
    "# deps\n",
    "import networkx as nx\n",
    "import pandas as pd\n",
    "import numpy as np\n"
   ]
  },
  {
   "cell_type": "code",
   "execution_count": 2,
   "metadata": {},
   "outputs": [],
   "source": [
    "# Read in data\n",
    "edges_df = pd.read_csv(\"../../data/edgelists/defensemen_edgelist_corsi.csv\")\n",
    "players_df = pd.read_csv(\n",
    "    \"../../data/interim/aggregated_defensemen.csv\", index_col='playerId', header=0)\n"
   ]
  },
  {
   "cell_type": "code",
   "execution_count": 3,
   "metadata": {},
   "outputs": [],
   "source": [
    "# Construct graph from our edgelist\n",
    "# Create a network of nodes which are players and the links are players that played together\n",
    "# We create 2 graphs, one for each relationship direction and then compose them for our total graph\n",
    "edges_df = edges_df.rename(columns={'corsi_influence_on_player2': 'weight'})\n",
    "G0 = nx.Graph()\n",
    "G0 = nx.from_pandas_edgelist(edges_df, 'playerId1', 'playerId2', [\n",
    "                             'weight'], create_using=nx.DiGraph)\n",
    "\n",
    "edges_df = edges_df.rename(\n",
    "    columns={'weight': 'notweight', 'corsi_influence_on_player1': 'weight'})\n",
    "G1 = nx.Graph()\n",
    "G1 = nx.from_pandas_edgelist(\n",
    "    edges_df, 'playerId2', 'playerId1', edge_attr='weight', create_using=nx.DiGraph)\n",
    "\n",
    "G = nx.compose(G0, G1)\n"
   ]
  },
  {
   "cell_type": "code",
   "execution_count": 4,
   "metadata": {},
   "outputs": [],
   "source": [
    "# Clean up graph for community analysis\n",
    "# Delete edges with 0 or negative influence\n",
    "edge_attrs = nx.get_edge_attributes(G, \"weight\")\n",
    "for edge in edge_attrs.keys():\n",
    "    if edge_attrs[edge] <= 0:\n",
    "        G.remove_edge(edge[0], edge[1])\n",
    "\n",
    "# Delete nodes with no edges\n",
    "G.remove_nodes_from(list(nx.isolates(G)))\n"
   ]
  },
  {
   "cell_type": "code",
   "execution_count": 5,
   "metadata": {},
   "outputs": [],
   "source": [
    "# Add data to nodes that may be useful for visualization\n",
    "def copy_attr_to_nodes(G, df, attr_name):\n",
    "    nodes_dict = dict.fromkeys(G.nodes)\n",
    "    for node in G.nodes:\n",
    "        node_attr = df.loc[[node]][attr_name].values[0]\n",
    "        nodes_dict[node] = node_attr\n",
    "    return nodes_dict\n",
    "\n",
    "\n",
    "# Add player names to nodes\n",
    "player_names = copy_attr_to_nodes(G, players_df, \"playerName\")\n",
    "nx.set_node_attributes(G, player_names, \"playerName\")\n",
    "\n",
    "# on ice corsi\n",
    "player_onIce_corsis = copy_attr_to_nodes(\n",
    "    G, players_df, \"onIce_corsiPercentage\")\n",
    "nx.set_node_attributes(G, player_onIce_corsis, \"onIce_corsiPercentage\")\n",
    "\n",
    "# off ice corsi\n",
    "player_offIce_corsis = copy_attr_to_nodes(\n",
    "    G, players_df, \"offIce_corsiPercentage\")\n",
    "nx.set_node_attributes(G, player_offIce_corsis, \"offIce_corsiPercentage\")\n",
    "\n",
    "# on/off ice corsi diff\n",
    "player_corsi_diffs = copy_attr_to_nodes(G, players_df, \"on_off_corsi_diff\")\n",
    "nx.set_node_attributes(G, player_corsi_diffs, \"on_off_corsi_diff\")\n",
    "\n",
    "# on ice goals for per 60\n",
    "player_gf_per60s = copy_attr_to_nodes(G, players_df, \"OnIce_F_goals_per60\")\n",
    "nx.set_node_attributes(G, player_gf_per60s, \"onIce_F_goals_per60\")\n"
   ]
  },
  {
   "attachments": {},
   "cell_type": "markdown",
   "metadata": {},
   "source": [
    "# Community Analysis\n"
   ]
  },
  {
   "cell_type": "code",
   "execution_count": 6,
   "metadata": {},
   "outputs": [
    {
     "name": "stdout",
     "output_type": "stream",
     "text": [
      "24\n"
     ]
    }
   ],
   "source": [
    "# Run community detection algorithms, add info to graph and export to gephi for visualization\n",
    "import networkx.algorithms.community as nxc\n",
    "\n",
    "# Greedy Modularity\n",
    "communities = nxc.greedy_modularity_communities(G, weight='weight')\n",
    "print(len(communities))\n",
    "\n",
    "# add community info to node attributes\n",
    "i = 0\n",
    "communities_dict = dict.fromkeys(G.nodes)\n",
    "for community in communities:\n",
    "    for player in community:\n",
    "        communities_dict[player] = i\n",
    "    i += 1\n",
    "\n",
    "nx.set_node_attributes(G, communities_dict, \"community\")\n",
    "\n",
    "# output a gephi file for ez visualization\n",
    "nx.write_gexf(G, 'gexf_exports/defense_positive.gexf')\n"
   ]
  },
  {
   "cell_type": "code",
   "execution_count": 7,
   "metadata": {},
   "outputs": [],
   "source": [
    "# Display stat distributions and other relevant stuff to identify trends within and between communities\n",
    "import matplotlib as mpl\n",
    "import matplotlib.pyplot as plt\n",
    "import numpy as np\n",
    "\n",
    "players_df = pd.read_csv(\n",
    "    \"../../data/final/aggregated_defensemen.csv\", index_col='playerId', header=0)\n",
    "\n",
    "# Remove players with less than 10 games to clean up playerbase data a bit\n",
    "players_df_pared = players_df.drop(\n",
    "    players_df[players_df.games_played < 10].index)\n"
   ]
  },
  {
   "cell_type": "code",
   "execution_count": 8,
   "metadata": {},
   "outputs": [],
   "source": [
    "import scipy.stats as sps\n",
    "\n",
    "\n",
    "def plot_distributions(stat):\n",
    "    # Plot distribution of entire playerbase\n",
    "    playerbase_stats = players_df_pared[stat].values\n",
    "    pb_mean = np.nanmean(playerbase_stats)\n",
    "    pb_dev = np.nanstd(playerbase_stats)\n",
    "    print(\"n: \", len(playerbase_stats))\n",
    "    print(\"mean: \", pb_mean)\n",
    "    print(\"std dev: \", pb_dev)\n",
    "    n, bins, patches = plt.hist(playerbase_stats, 30)\n",
    "    plt.xlabel(stat)\n",
    "    plt.ylabel(\"Count\")\n",
    "    plt.title(\"Overall Playerbase \" + stat)\n",
    "    plt.show()\n",
    "\n",
    "    # Plot distribution of each community individually\n",
    "    i = 0\n",
    "    for community in communities:\n",
    "        players_stats = []\n",
    "        for player in community:\n",
    "            players_stats.append(players_df.loc[player][stat])\n",
    "        print(\"Community: \", i)\n",
    "        print(\"n: \", len(players_stats))\n",
    "        print(\"mean: \", np.mean(players_stats))\n",
    "        print(sps.ttest_1samp(players_stats, pb_mean))\n",
    "        # Reduce clutter for now\n",
    "        # plt.hist(players_stats, bins)\n",
    "        # plt.xlabel(stat)\n",
    "        # plt.ylabel(\"Count\")\n",
    "        # title = \"Community: \" + str(i)\n",
    "        # plt.title(title)\n",
    "        # plt.show()\n",
    "        i += 1\n"
   ]
  },
  {
   "cell_type": "code",
   "execution_count": 9,
   "metadata": {},
   "outputs": [
    {
     "name": "stdout",
     "output_type": "stream",
     "text": [
      "n:  608\n",
      "mean:  4.997769835087394\n",
      "std dev:  2.9064760138936157\n"
     ]
    },
    {
     "data": {
      "image/png": "[encoded data removed]",
      "text/plain": [
       "<Figure size 640x480 with 1 Axes>"
      ]
     },
     "metadata": {},
     "output_type": "display_data"
    },
    {
     "name": "stdout",
     "output_type": "stream",
     "text": [
      "Community:  0\n",
      "n:  63\n",
      "mean:  5.147470455628207\n",
      "Ttest_1sampResult(statistic=0.4052697856122221, pvalue=0.6866742734043133)\n",
      "Community:  1\n",
      "n:  53\n",
      "mean:  4.335645563105952\n",
      "Ttest_1sampResult(statistic=-2.1938204949985085, pvalue=0.032741243670916576)\n",
      "Community:  2\n",
      "n:  46\n",
      "mean:  5.152098699124676\n",
      "Ttest_1sampResult(statistic=0.44295958088923815, pvalue=0.6599171450524377)\n",
      "Community:  3\n",
      "n:  41\n",
      "mean:  6.043150373851003\n",
      "Ttest_1sampResult(statistic=2.825121771241933, pvalue=0.007338152473779073)\n",
      "Community:  4\n",
      "n:  39\n",
      "mean:  4.178885485964641\n",
      "Ttest_1sampResult(statistic=-2.7236460615620173, pvalue=0.009699814694087951)\n",
      "Community:  5\n",
      "n:  32\n",
      "mean:  5.80075365450755\n",
      "Ttest_1sampResult(statistic=1.3781127149461103, pvalue=0.17803505692113872)\n",
      "Community:  6\n",
      "n:  31\n",
      "mean:  5.4747027171607785\n",
      "Ttest_1sampResult(statistic=0.920841482372011, pvalue=0.36447925576907714)\n",
      "Community:  7\n",
      "n:  31\n",
      "mean:  4.4285054326247675\n",
      "Ttest_1sampResult(statistic=-1.3574108584208981, pvalue=0.18477520836308364)\n",
      "Community:  8\n",
      "n:  30\n",
      "mean:  4.075764039816099\n",
      "Ttest_1sampResult(statistic=-2.220413180699555, pvalue=0.034363659118861654)\n",
      "Community:  9\n",
      "n:  26\n",
      "mean:  5.845131608642363\n",
      "Ttest_1sampResult(statistic=1.2471557743425683, pvalue=0.2238980592025357)\n",
      "Community:  10\n",
      "n:  26\n",
      "mean:  4.541562191772862\n",
      "Ttest_1sampResult(statistic=-0.7946762300242107, pvalue=0.43428154970996347)\n",
      "Community:  11\n",
      "n:  24\n",
      "mean:  5.237869645767792\n",
      "Ttest_1sampResult(statistic=0.4041424940292776, pvalue=0.6898413407289953)\n",
      "Community:  12\n",
      "n:  19\n",
      "mean:  4.674761735107827\n",
      "Ttest_1sampResult(statistic=-0.4673527042535215, pvalue=0.6458555282619913)\n",
      "Community:  13\n",
      "n:  16\n",
      "mean:  5.083184499494063\n",
      "Ttest_1sampResult(statistic=0.12139015980075324, pvalue=0.9049932504738104)\n",
      "Community:  14\n",
      "n:  12\n",
      "mean:  5.412602409830694\n",
      "Ttest_1sampResult(statistic=0.5275367001872088, pvalue=0.6082969737008621)\n",
      "Community:  15\n",
      "n:  7\n",
      "mean:  3.669876318518866\n",
      "Ttest_1sampResult(statistic=-1.7631993805031767, pvalue=0.12832592086236494)\n",
      "Community:  16\n",
      "n:  7\n",
      "mean:  3.779905822343125\n",
      "Ttest_1sampResult(statistic=-2.091486546128206, pvalue=0.0814306940681702)\n",
      "Community:  17\n",
      "n:  3\n",
      "mean:  5.226213370561227\n",
      "Ttest_1sampResult(statistic=0.160197276548622, pvalue=0.8874432582440626)\n",
      "Community:  18\n",
      "n:  3\n",
      "mean:  4.220183690560341\n",
      "Ttest_1sampResult(statistic=-0.7666513225822646, pvalue=0.5234193843749394)\n",
      "Community:  19\n",
      "n:  2\n",
      "mean:  4.576532727715309\n",
      "Ttest_1sampResult(statistic=-2.0116786421696724, pvalue=0.2936871810853949)\n",
      "Community:  20\n",
      "n:  2\n",
      "mean:  5.270654944322781\n",
      "Ttest_1sampResult(statistic=0.1748067271186259, pvalue=0.8898277723431082)\n",
      "Community:  21\n",
      "n:  2\n",
      "mean:  4.345996111840881\n",
      "Ttest_1sampResult(statistic=-0.43678456833760126, pvalue=0.7378337449716585)\n",
      "Community:  22\n",
      "n:  2\n",
      "mean:  3.2089560953317786\n",
      "Ttest_1sampResult(statistic=-26.98933773064218, pvalue=0.02357703978092144)\n",
      "Community:  23\n",
      "n:  2\n",
      "mean:  4.1504720479657475\n",
      "Ttest_1sampResult(statistic=-3.420235436988873, pvalue=0.1810859330975614)\n"
     ]
    }
   ],
   "source": [
    "plot_distributions('I_F_hits_per60')\n"
   ]
  }
 ],
 "metadata": {
  "kernelspec": {
   "display_name": "nhl-linemate-network",
   "language": "python",
   "name": "python3"
  },
  "language_info": {
   "codemirror_mode": {
    "name": "ipython",
    "version": 3
   },
   "file_extension": ".py",
   "mimetype": "text/x-python",
   "name": "python",
   "nbconvert_exporter": "python",
   "pygments_lexer": "ipython3",
   "version": "3.10.8"
  },
  "orig_nbformat": 4,
  "vscode": {
   "interpreter": {
    "hash": "719fdcb52494273f11696f2f4a4f6a2459513633a86e6fc9a7a199c0f5fbbbb7"
   }
  }
 },
 "nbformat": 4,
 "nbformat_minor": 2
}
